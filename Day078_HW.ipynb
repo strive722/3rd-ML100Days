{
  "nbformat": 4,
  "nbformat_minor": 0,
  "metadata": {
    "kernelspec": {
      "display_name": "Python 3",
      "language": "python",
      "name": "python3"
    },
    "language_info": {
      "codemirror_mode": {
        "name": "ipython",
        "version": 3
      },
      "file_extension": ".py",
      "mimetype": "text/x-python",
      "name": "python",
      "nbconvert_exporter": "python",
      "pygments_lexer": "ipython3",
      "version": "3.6.5"
    },
    "colab": {
      "name": "Day078_HW.ipynb",
      "provenance": [],
      "collapsed_sections": []
    }
  },
  "cells": [
    {
      "cell_type": "markdown",
      "metadata": {
        "id": "iC9F71PGm6Hs",
        "colab_type": "text"
      },
      "source": [
        "## Work\n",
        "1. 請嘗試將 preproc_x 替換成以每筆資料的 min/max 進行標準化至 -1 ~ 1 間，再進行訓練\n",
        "2. 請嘗試將 mlp 疊更深 (e.g 5~10 層)，進行訓練後觀察 learning curve 的走勢\n",
        "3. (optional) 請改用 GPU 進行訓練 (如果你有 GPU 的話)，比較使用 CPU 與 GPU 的訓練速度"
      ]
    },
    {
      "cell_type": "code",
      "metadata": {
        "id": "Nz2ieyfRm6Hu",
        "colab_type": "code",
        "colab": {
          "base_uri": "https://localhost:8080/",
          "height": 34
        },
        "outputId": "1e7cb136-b09c-4654-da1d-c360ec2c56f5"
      },
      "source": [
        "## \n",
        "\"\"\"\n",
        "Your code here (optional)\n",
        "確認硬體資源\n",
        "\"\"\"\n",
        "## 確認硬體資源\n",
        "# !nvidia-smi"
      ],
      "execution_count": 1,
      "outputs": [
        {
          "output_type": "execute_result",
          "data": {
            "text/plain": [
              "'\\nYour code here (optional)\\n確認硬體資源\\n'"
            ]
          },
          "metadata": {
            "tags": []
          },
          "execution_count": 1
        }
      ]
    },
    {
      "cell_type": "code",
      "metadata": {
        "id": "zxJUF3r1m6Hx",
        "colab_type": "code",
        "colab": {}
      },
      "source": [
        "import os\n",
        "import keras\n",
        "\n",
        "# 請嘗試設定 GPU：os.environ\n"
      ],
      "execution_count": 0,
      "outputs": []
    },
    {
      "cell_type": "code",
      "metadata": {
        "id": "juNZCWhFm6Hz",
        "colab_type": "code",
        "colab": {
          "base_uri": "https://localhost:8080/",
          "height": 52
        },
        "outputId": "fdb557a2-3a53-4119-e048-dcee9baf7f56"
      },
      "source": [
        "train, test = keras.datasets.cifar10.load_data()"
      ],
      "execution_count": 4,
      "outputs": [
        {
          "output_type": "stream",
          "text": [
            "Downloading data from https://www.cs.toronto.edu/~kriz/cifar-10-python.tar.gz\n",
            "170500096/170498071 [==============================] - 6s 0us/step\n"
          ],
          "name": "stdout"
        }
      ]
    },
    {
      "cell_type": "code",
      "metadata": {
        "id": "Kisj5t2pm6H0",
        "colab_type": "code",
        "colab": {}
      },
      "source": [
        "## 資料前處理\n",
        "def preproc_x(x, flatten=True):\n",
        "#     # 1. 請嘗試將 preproc_x 替換成以每筆資料的 min/max 進行標準化至 -1 ~ 1 間，再進行訓練\n",
        "#     x = (2 * (x - x.min()) / (x.max() - x.min())) - 1 # normalize to [-1, 1]\n",
        "    x = x / 255\n",
        "    if flatten:\n",
        "        x = x.reshape((len(x), -1))\n",
        "    return x\n",
        "\n",
        "def preproc_y(y, num_classes=10):\n",
        "    if y.shape[-1] == 1:\n",
        "        y = keras.utils.to_categorical(y, num_classes)\n",
        "    return y  "
      ],
      "execution_count": 0,
      "outputs": []
    },
    {
      "cell_type": "code",
      "metadata": {
        "id": "p2ytjR1Gm6H2",
        "colab_type": "code",
        "colab": {}
      },
      "source": [
        "x_train, y_train = train\n",
        "x_test, y_test = test\n",
        "\n",
        "# 資料前處理 - X 標準化\n",
        "x_train = preproc_x(x_train)\n",
        "x_test = preproc_x(x_test)\n",
        "\n",
        "# 資料前處理 -Y 轉成 onehot\n",
        "y_train = preproc_y(y_train)\n",
        "y_test = preproc_y(y_test)"
      ],
      "execution_count": 0,
      "outputs": []
    },
    {
      "cell_type": "code",
      "metadata": {
        "id": "AIhCZPk3m6H3",
        "colab_type": "code",
        "colab": {
          "base_uri": "https://localhost:8080/",
          "height": 565
        },
        "outputId": "9fe947a0-d862-4fb4-fa1b-e3669cfdec79"
      },
      "source": [
        "\"\"\"Code Here\n",
        "建立你的神經網路\n",
        "\"\"\"\n",
        "                                       # 透過增加 num_neurons 的數量，來把層數加得更深\n",
        "                                       # 2. 請嘗試將 mlp 疊更深 (e.g 5~10 層)，進行訓練後觀察 learning curve 的走勢\n",
        "def build_mlp(input_shape, output_units=10, num_neurons=[512, 256, 256, 256, 256, 256]):\n",
        "    input_layer = keras.layers.Input(input_shape)\n",
        "    \n",
        "    for i, n_units in enumerate(num_neurons):\n",
        "        if i == 0:\n",
        "            x = keras.layers.Dense(units=n_units, activation=\"relu\", name=\"hidden_layer\"+str(i+1))(input_layer)\n",
        "        else:\n",
        "            x = keras.layers.Dense(units=n_units, activation=\"relu\", name=\"hidden_layer\"+str(i+1))(x)\n",
        "    \n",
        "    out = keras.layers.Dense(units=output_units, activation=\"softmax\", name=\"output\")(x)\n",
        "    \n",
        "    model = keras.models.Model(inputs=[input_layer], outputs=[out])\n",
        "    return model\n",
        "\n",
        "model = build_mlp(input_shape=x_train.shape[1:])\n",
        "model.summary()"
      ],
      "execution_count": 7,
      "outputs": [
        {
          "output_type": "stream",
          "text": [
            "WARNING:tensorflow:From /usr/local/lib/python3.6/dist-packages/keras/backend/tensorflow_backend.py:66: The name tf.get_default_graph is deprecated. Please use tf.compat.v1.get_default_graph instead.\n",
            "\n",
            "WARNING:tensorflow:From /usr/local/lib/python3.6/dist-packages/keras/backend/tensorflow_backend.py:541: The name tf.placeholder is deprecated. Please use tf.compat.v1.placeholder instead.\n",
            "\n",
            "WARNING:tensorflow:From /usr/local/lib/python3.6/dist-packages/keras/backend/tensorflow_backend.py:4432: The name tf.random_uniform is deprecated. Please use tf.random.uniform instead.\n",
            "\n",
            "Model: \"model_1\"\n",
            "_________________________________________________________________\n",
            "Layer (type)                 Output Shape              Param #   \n",
            "=================================================================\n",
            "input_1 (InputLayer)         (None, 3072)              0         \n",
            "_________________________________________________________________\n",
            "hidden_layer1 (Dense)        (None, 512)               1573376   \n",
            "_________________________________________________________________\n",
            "hidden_layer2 (Dense)        (None, 256)               131328    \n",
            "_________________________________________________________________\n",
            "hidden_layer3 (Dense)        (None, 256)               65792     \n",
            "_________________________________________________________________\n",
            "hidden_layer4 (Dense)        (None, 256)               65792     \n",
            "_________________________________________________________________\n",
            "hidden_layer5 (Dense)        (None, 256)               65792     \n",
            "_________________________________________________________________\n",
            "hidden_layer6 (Dense)        (None, 256)               65792     \n",
            "_________________________________________________________________\n",
            "output (Dense)               (None, 10)                2570      \n",
            "=================================================================\n",
            "Total params: 1,970,442\n",
            "Trainable params: 1,970,442\n",
            "Non-trainable params: 0\n",
            "_________________________________________________________________\n"
          ],
          "name": "stdout"
        }
      ]
    },
    {
      "cell_type": "code",
      "metadata": {
        "id": "cLuLLlGIm6H5",
        "colab_type": "code",
        "colab": {}
      },
      "source": [
        "## 超參數設定\n",
        "LEARNING_RATE = 0.001\n",
        "EPOCHS = 100\n",
        "BATCH_SIZE = 256"
      ],
      "execution_count": 0,
      "outputs": []
    },
    {
      "cell_type": "code",
      "metadata": {
        "id": "nJ3hSBbnm6H6",
        "colab_type": "code",
        "colab": {
          "base_uri": "https://localhost:8080/",
          "height": 87
        },
        "outputId": "1f7dbda0-d33e-4d43-e785-d7302dee3154"
      },
      "source": [
        "optimizer = keras.optimizers.Adam(lr=LEARNING_RATE)\n",
        "model.compile(loss=\"categorical_crossentropy\", metrics=[\"accuracy\"], optimizer=optimizer)"
      ],
      "execution_count": 10,
      "outputs": [
        {
          "output_type": "stream",
          "text": [
            "WARNING:tensorflow:From /usr/local/lib/python3.6/dist-packages/keras/optimizers.py:793: The name tf.train.Optimizer is deprecated. Please use tf.compat.v1.train.Optimizer instead.\n",
            "\n",
            "WARNING:tensorflow:From /usr/local/lib/python3.6/dist-packages/keras/backend/tensorflow_backend.py:3576: The name tf.log is deprecated. Please use tf.math.log instead.\n",
            "\n"
          ],
          "name": "stdout"
        }
      ]
    },
    {
      "cell_type": "code",
      "metadata": {
        "id": "lDABWBlZm6H8",
        "colab_type": "code",
        "colab": {
          "base_uri": "https://localhost:8080/",
          "height": 1000
        },
        "outputId": "d1b45ebb-be22-4057-a1c4-506350e2cbaa"
      },
      "source": [
        "model.fit(x_train, y_train, \n",
        "          epochs=EPOCHS, \n",
        "          batch_size=BATCH_SIZE, \n",
        "          validation_data=(x_test, y_test), \n",
        "          shuffle=True)"
      ],
      "execution_count": 11,
      "outputs": [
        {
          "output_type": "stream",
          "text": [
            "WARNING:tensorflow:From /usr/local/lib/python3.6/dist-packages/tensorflow_core/python/ops/math_grad.py:1424: where (from tensorflow.python.ops.array_ops) is deprecated and will be removed in a future version.\n",
            "Instructions for updating:\n",
            "Use tf.where in 2.0, which has the same broadcast rule as np.where\n",
            "WARNING:tensorflow:From /usr/local/lib/python3.6/dist-packages/keras/backend/tensorflow_backend.py:1033: The name tf.assign_add is deprecated. Please use tf.compat.v1.assign_add instead.\n",
            "\n",
            "WARNING:tensorflow:From /usr/local/lib/python3.6/dist-packages/keras/backend/tensorflow_backend.py:1020: The name tf.assign is deprecated. Please use tf.compat.v1.assign instead.\n",
            "\n",
            "WARNING:tensorflow:From /usr/local/lib/python3.6/dist-packages/keras/backend/tensorflow_backend.py:3005: The name tf.Session is deprecated. Please use tf.compat.v1.Session instead.\n",
            "\n",
            "Train on 50000 samples, validate on 10000 samples\n",
            "Epoch 1/100\n",
            "WARNING:tensorflow:From /usr/local/lib/python3.6/dist-packages/keras/backend/tensorflow_backend.py:190: The name tf.get_default_session is deprecated. Please use tf.compat.v1.get_default_session instead.\n",
            "\n",
            "WARNING:tensorflow:From /usr/local/lib/python3.6/dist-packages/keras/backend/tensorflow_backend.py:197: The name tf.ConfigProto is deprecated. Please use tf.compat.v1.ConfigProto instead.\n",
            "\n",
            "WARNING:tensorflow:From /usr/local/lib/python3.6/dist-packages/keras/backend/tensorflow_backend.py:207: The name tf.global_variables is deprecated. Please use tf.compat.v1.global_variables instead.\n",
            "\n",
            "WARNING:tensorflow:From /usr/local/lib/python3.6/dist-packages/keras/backend/tensorflow_backend.py:216: The name tf.is_variable_initialized is deprecated. Please use tf.compat.v1.is_variable_initialized instead.\n",
            "\n",
            "WARNING:tensorflow:From /usr/local/lib/python3.6/dist-packages/keras/backend/tensorflow_backend.py:223: The name tf.variables_initializer is deprecated. Please use tf.compat.v1.variables_initializer instead.\n",
            "\n",
            "50000/50000 [==============================] - 14s 283us/step - loss: 1.9291 - acc: 0.2889 - val_loss: 1.7429 - val_acc: 0.3681\n",
            "Epoch 2/100\n",
            "50000/50000 [==============================] - 13s 254us/step - loss: 1.7239 - acc: 0.3742 - val_loss: 1.6999 - val_acc: 0.3781\n",
            "Epoch 3/100\n",
            "50000/50000 [==============================] - 13s 254us/step - loss: 1.6330 - acc: 0.4137 - val_loss: 1.5998 - val_acc: 0.4209\n",
            "Epoch 4/100\n",
            "50000/50000 [==============================] - 13s 256us/step - loss: 1.5780 - acc: 0.4290 - val_loss: 1.5469 - val_acc: 0.4525\n",
            "Epoch 5/100\n",
            "50000/50000 [==============================] - 13s 255us/step - loss: 1.5154 - acc: 0.4550 - val_loss: 1.5249 - val_acc: 0.4605\n",
            "Epoch 6/100\n",
            "50000/50000 [==============================] - 13s 255us/step - loss: 1.4789 - acc: 0.4696 - val_loss: 1.5285 - val_acc: 0.4503\n",
            "Epoch 7/100\n",
            "50000/50000 [==============================] - 13s 254us/step - loss: 1.4503 - acc: 0.4798 - val_loss: 1.5113 - val_acc: 0.4555\n",
            "Epoch 8/100\n",
            "50000/50000 [==============================] - 13s 255us/step - loss: 1.4139 - acc: 0.4924 - val_loss: 1.4909 - val_acc: 0.4637\n",
            "Epoch 9/100\n",
            "50000/50000 [==============================] - 13s 254us/step - loss: 1.3824 - acc: 0.5028 - val_loss: 1.4545 - val_acc: 0.4864\n",
            "Epoch 10/100\n",
            "50000/50000 [==============================] - 13s 261us/step - loss: 1.3487 - acc: 0.5165 - val_loss: 1.4811 - val_acc: 0.4798\n",
            "Epoch 11/100\n",
            "50000/50000 [==============================] - 13s 255us/step - loss: 1.3278 - acc: 0.5214 - val_loss: 1.4268 - val_acc: 0.4914\n",
            "Epoch 12/100\n",
            "50000/50000 [==============================] - 13s 256us/step - loss: 1.2961 - acc: 0.5329 - val_loss: 1.4176 - val_acc: 0.4967\n",
            "Epoch 13/100\n",
            "50000/50000 [==============================] - 13s 256us/step - loss: 1.2687 - acc: 0.5451 - val_loss: 1.4299 - val_acc: 0.4984\n",
            "Epoch 14/100\n",
            "50000/50000 [==============================] - 13s 256us/step - loss: 1.2439 - acc: 0.5533 - val_loss: 1.4043 - val_acc: 0.5041\n",
            "Epoch 15/100\n",
            "50000/50000 [==============================] - 13s 259us/step - loss: 1.2081 - acc: 0.5634 - val_loss: 1.4125 - val_acc: 0.5020\n",
            "Epoch 16/100\n",
            "50000/50000 [==============================] - 13s 254us/step - loss: 1.1858 - acc: 0.5728 - val_loss: 1.4181 - val_acc: 0.5121\n",
            "Epoch 17/100\n",
            "50000/50000 [==============================] - 13s 254us/step - loss: 1.1649 - acc: 0.5820 - val_loss: 1.4117 - val_acc: 0.5108\n",
            "Epoch 18/100\n",
            "50000/50000 [==============================] - 13s 256us/step - loss: 1.1237 - acc: 0.5954 - val_loss: 1.4330 - val_acc: 0.5130\n",
            "Epoch 19/100\n",
            "50000/50000 [==============================] - 13s 256us/step - loss: 1.0982 - acc: 0.6040 - val_loss: 1.4386 - val_acc: 0.5053\n",
            "Epoch 20/100\n",
            "50000/50000 [==============================] - 13s 256us/step - loss: 1.0768 - acc: 0.6102 - val_loss: 1.4416 - val_acc: 0.5076\n",
            "Epoch 21/100\n",
            "50000/50000 [==============================] - 13s 255us/step - loss: 1.0436 - acc: 0.6238 - val_loss: 1.4566 - val_acc: 0.5056\n",
            "Epoch 22/100\n",
            "50000/50000 [==============================] - 13s 258us/step - loss: 1.0079 - acc: 0.6340 - val_loss: 1.4595 - val_acc: 0.5126\n",
            "Epoch 23/100\n",
            "50000/50000 [==============================] - 13s 256us/step - loss: 0.9944 - acc: 0.6403 - val_loss: 1.4498 - val_acc: 0.5229\n",
            "Epoch 24/100\n",
            "50000/50000 [==============================] - 13s 252us/step - loss: 0.9487 - acc: 0.6565 - val_loss: 1.5220 - val_acc: 0.5122\n",
            "Epoch 25/100\n",
            "50000/50000 [==============================] - 12s 247us/step - loss: 0.9138 - acc: 0.6652 - val_loss: 1.4902 - val_acc: 0.5137\n",
            "Epoch 26/100\n",
            "50000/50000 [==============================] - 12s 244us/step - loss: 0.8921 - acc: 0.6754 - val_loss: 1.5514 - val_acc: 0.5153\n",
            "Epoch 27/100\n",
            "50000/50000 [==============================] - 12s 247us/step - loss: 0.8603 - acc: 0.6858 - val_loss: 1.5472 - val_acc: 0.5164\n",
            "Epoch 28/100\n",
            "50000/50000 [==============================] - 12s 247us/step - loss: 0.8264 - acc: 0.6974 - val_loss: 1.6437 - val_acc: 0.5082\n",
            "Epoch 29/100\n",
            "50000/50000 [==============================] - 12s 248us/step - loss: 0.7872 - acc: 0.7121 - val_loss: 1.7083 - val_acc: 0.5142\n",
            "Epoch 30/100\n",
            "50000/50000 [==============================] - 12s 247us/step - loss: 0.7697 - acc: 0.7184 - val_loss: 1.7032 - val_acc: 0.5057\n",
            "Epoch 31/100\n",
            "50000/50000 [==============================] - 13s 253us/step - loss: 0.7397 - acc: 0.7279 - val_loss: 1.7534 - val_acc: 0.5049\n",
            "Epoch 32/100\n",
            "50000/50000 [==============================] - 13s 262us/step - loss: 0.7116 - acc: 0.7410 - val_loss: 1.8107 - val_acc: 0.5058\n",
            "Epoch 33/100\n",
            "50000/50000 [==============================] - 13s 255us/step - loss: 0.6843 - acc: 0.7482 - val_loss: 1.8759 - val_acc: 0.5073\n",
            "Epoch 34/100\n",
            "50000/50000 [==============================] - 13s 257us/step - loss: 0.6360 - acc: 0.7669 - val_loss: 1.9028 - val_acc: 0.5104\n",
            "Epoch 35/100\n",
            "50000/50000 [==============================] - 13s 256us/step - loss: 0.6251 - acc: 0.7697 - val_loss: 1.9595 - val_acc: 0.5056\n",
            "Epoch 36/100\n",
            "50000/50000 [==============================] - 13s 256us/step - loss: 0.6045 - acc: 0.7793 - val_loss: 1.9975 - val_acc: 0.5034\n",
            "Epoch 37/100\n",
            "50000/50000 [==============================] - 13s 256us/step - loss: 0.5733 - acc: 0.7908 - val_loss: 2.0532 - val_acc: 0.5023\n",
            "Epoch 38/100\n",
            "50000/50000 [==============================] - 13s 255us/step - loss: 0.5507 - acc: 0.7967 - val_loss: 2.0926 - val_acc: 0.5020\n",
            "Epoch 39/100\n",
            "50000/50000 [==============================] - 13s 261us/step - loss: 0.5317 - acc: 0.8042 - val_loss: 2.2277 - val_acc: 0.4906\n",
            "Epoch 40/100\n",
            "50000/50000 [==============================] - 13s 258us/step - loss: 0.5141 - acc: 0.8125 - val_loss: 2.2353 - val_acc: 0.4996\n",
            "Epoch 41/100\n",
            "50000/50000 [==============================] - 13s 256us/step - loss: 0.5032 - acc: 0.8150 - val_loss: 2.3266 - val_acc: 0.5033\n",
            "Epoch 42/100\n",
            "50000/50000 [==============================] - 13s 258us/step - loss: 0.4737 - acc: 0.8250 - val_loss: 2.2383 - val_acc: 0.4980\n",
            "Epoch 43/100\n",
            "50000/50000 [==============================] - 13s 257us/step - loss: 0.4532 - acc: 0.8347 - val_loss: 2.3914 - val_acc: 0.5052\n",
            "Epoch 44/100\n",
            "50000/50000 [==============================] - 13s 255us/step - loss: 0.4502 - acc: 0.8354 - val_loss: 2.5217 - val_acc: 0.4852\n",
            "Epoch 45/100\n",
            "50000/50000 [==============================] - 13s 254us/step - loss: 0.4545 - acc: 0.8314 - val_loss: 2.3841 - val_acc: 0.4974\n",
            "Epoch 46/100\n",
            "50000/50000 [==============================] - 13s 255us/step - loss: 0.4062 - acc: 0.8496 - val_loss: 2.6220 - val_acc: 0.5008\n",
            "Epoch 47/100\n",
            "50000/50000 [==============================] - 13s 253us/step - loss: 0.3910 - acc: 0.8583 - val_loss: 2.6985 - val_acc: 0.5003\n",
            "Epoch 48/100\n",
            "50000/50000 [==============================] - 13s 255us/step - loss: 0.3795 - acc: 0.8605 - val_loss: 2.6700 - val_acc: 0.4989\n",
            "Epoch 49/100\n",
            "50000/50000 [==============================] - 13s 254us/step - loss: 0.3799 - acc: 0.8625 - val_loss: 2.7124 - val_acc: 0.4930\n",
            "Epoch 50/100\n",
            "50000/50000 [==============================] - 13s 256us/step - loss: 0.3710 - acc: 0.8640 - val_loss: 2.7246 - val_acc: 0.4966\n",
            "Epoch 51/100\n",
            "50000/50000 [==============================] - 13s 255us/step - loss: 0.3543 - acc: 0.8704 - val_loss: 2.9174 - val_acc: 0.4819\n",
            "Epoch 52/100\n",
            "50000/50000 [==============================] - 13s 254us/step - loss: 0.3410 - acc: 0.8755 - val_loss: 2.8950 - val_acc: 0.4867\n",
            "Epoch 53/100\n",
            "50000/50000 [==============================] - 13s 254us/step - loss: 0.3307 - acc: 0.8802 - val_loss: 2.9502 - val_acc: 0.4927\n",
            "Epoch 54/100\n",
            "50000/50000 [==============================] - 13s 253us/step - loss: 0.3288 - acc: 0.8820 - val_loss: 2.8927 - val_acc: 0.4841\n",
            "Epoch 55/100\n",
            "50000/50000 [==============================] - 13s 255us/step - loss: 0.2996 - acc: 0.8915 - val_loss: 2.9742 - val_acc: 0.4918\n",
            "Epoch 56/100\n",
            "50000/50000 [==============================] - 13s 254us/step - loss: 0.3092 - acc: 0.8883 - val_loss: 3.0851 - val_acc: 0.4875\n",
            "Epoch 57/100\n",
            "50000/50000 [==============================] - 13s 254us/step - loss: 0.2920 - acc: 0.8943 - val_loss: 3.1282 - val_acc: 0.4881\n",
            "Epoch 58/100\n",
            "50000/50000 [==============================] - 13s 255us/step - loss: 0.2927 - acc: 0.8954 - val_loss: 3.2162 - val_acc: 0.4876\n",
            "Epoch 59/100\n",
            "50000/50000 [==============================] - 13s 257us/step - loss: 0.2826 - acc: 0.8981 - val_loss: 3.0982 - val_acc: 0.4888\n",
            "Epoch 60/100\n",
            "50000/50000 [==============================] - 13s 255us/step - loss: 0.2995 - acc: 0.8929 - val_loss: 3.1145 - val_acc: 0.4918\n",
            "Epoch 61/100\n",
            "50000/50000 [==============================] - 13s 253us/step - loss: 0.2894 - acc: 0.8958 - val_loss: 3.1494 - val_acc: 0.4913\n",
            "Epoch 62/100\n",
            "50000/50000 [==============================] - 13s 255us/step - loss: 0.2792 - acc: 0.9009 - val_loss: 3.3285 - val_acc: 0.4958\n",
            "Epoch 63/100\n",
            "50000/50000 [==============================] - 13s 254us/step - loss: 0.2349 - acc: 0.9167 - val_loss: 3.2466 - val_acc: 0.4926\n",
            "Epoch 64/100\n",
            "50000/50000 [==============================] - 13s 256us/step - loss: 0.2637 - acc: 0.9067 - val_loss: 3.2891 - val_acc: 0.4890\n",
            "Epoch 65/100\n",
            "50000/50000 [==============================] - 13s 254us/step - loss: 0.2881 - acc: 0.8990 - val_loss: 3.2877 - val_acc: 0.4788\n",
            "Epoch 66/100\n",
            "50000/50000 [==============================] - 13s 254us/step - loss: 0.2590 - acc: 0.9080 - val_loss: 3.3712 - val_acc: 0.4955\n",
            "Epoch 67/100\n",
            "50000/50000 [==============================] - 13s 255us/step - loss: 0.2323 - acc: 0.9173 - val_loss: 3.4299 - val_acc: 0.4910\n",
            "Epoch 68/100\n",
            "50000/50000 [==============================] - 13s 256us/step - loss: 0.2752 - acc: 0.9044 - val_loss: 3.4379 - val_acc: 0.4855\n",
            "Epoch 69/100\n",
            "50000/50000 [==============================] - 13s 255us/step - loss: 0.2561 - acc: 0.9106 - val_loss: 3.4034 - val_acc: 0.4802\n",
            "Epoch 70/100\n",
            "50000/50000 [==============================] - 13s 255us/step - loss: 0.2403 - acc: 0.9146 - val_loss: 3.4627 - val_acc: 0.4870\n",
            "Epoch 71/100\n",
            "50000/50000 [==============================] - 13s 256us/step - loss: 0.2725 - acc: 0.9047 - val_loss: 3.3932 - val_acc: 0.4860\n",
            "Epoch 72/100\n",
            "50000/50000 [==============================] - 13s 252us/step - loss: 0.2104 - acc: 0.9269 - val_loss: 3.4746 - val_acc: 0.4923\n",
            "Epoch 73/100\n",
            "50000/50000 [==============================] - 13s 254us/step - loss: 0.2324 - acc: 0.9190 - val_loss: 3.4843 - val_acc: 0.4913\n",
            "Epoch 74/100\n",
            "50000/50000 [==============================] - 13s 253us/step - loss: 0.2615 - acc: 0.9095 - val_loss: 3.4005 - val_acc: 0.4906\n",
            "Epoch 75/100\n",
            "50000/50000 [==============================] - 13s 252us/step - loss: 0.2031 - acc: 0.9292 - val_loss: 3.6532 - val_acc: 0.4884\n",
            "Epoch 76/100\n",
            "50000/50000 [==============================] - 13s 252us/step - loss: 0.2027 - acc: 0.9296 - val_loss: 3.7497 - val_acc: 0.4866\n",
            "Epoch 77/100\n",
            "50000/50000 [==============================] - 13s 251us/step - loss: 0.2406 - acc: 0.9162 - val_loss: 3.5929 - val_acc: 0.4820\n",
            "Epoch 78/100\n",
            "50000/50000 [==============================] - 13s 252us/step - loss: 0.2221 - acc: 0.9227 - val_loss: 3.5271 - val_acc: 0.4876\n",
            "Epoch 79/100\n",
            "50000/50000 [==============================] - 13s 252us/step - loss: 0.2534 - acc: 0.9115 - val_loss: 3.5927 - val_acc: 0.4886\n",
            "Epoch 80/100\n",
            "50000/50000 [==============================] - 13s 251us/step - loss: 0.1853 - acc: 0.9353 - val_loss: 3.6637 - val_acc: 0.4884\n",
            "Epoch 81/100\n",
            "50000/50000 [==============================] - 13s 253us/step - loss: 0.2315 - acc: 0.9199 - val_loss: 3.5584 - val_acc: 0.4826\n",
            "Epoch 82/100\n",
            "50000/50000 [==============================] - 13s 254us/step - loss: 0.1998 - acc: 0.9308 - val_loss: 3.7317 - val_acc: 0.4861\n",
            "Epoch 83/100\n",
            "50000/50000 [==============================] - 13s 256us/step - loss: 0.1985 - acc: 0.9313 - val_loss: 3.7841 - val_acc: 0.4922\n",
            "Epoch 84/100\n",
            "50000/50000 [==============================] - 13s 257us/step - loss: 0.2101 - acc: 0.9284 - val_loss: 3.6372 - val_acc: 0.4946\n",
            "Epoch 85/100\n",
            "50000/50000 [==============================] - 13s 251us/step - loss: 0.1980 - acc: 0.9313 - val_loss: 3.7555 - val_acc: 0.4877\n",
            "Epoch 86/100\n",
            "50000/50000 [==============================] - 13s 254us/step - loss: 0.2302 - acc: 0.9211 - val_loss: 3.5959 - val_acc: 0.4829\n",
            "Epoch 87/100\n",
            "50000/50000 [==============================] - 13s 253us/step - loss: 0.1885 - acc: 0.9352 - val_loss: 3.7701 - val_acc: 0.4870\n",
            "Epoch 88/100\n",
            "50000/50000 [==============================] - 13s 256us/step - loss: 0.1899 - acc: 0.9364 - val_loss: 3.8820 - val_acc: 0.4900\n",
            "Epoch 89/100\n",
            "50000/50000 [==============================] - 13s 250us/step - loss: 0.1782 - acc: 0.9383 - val_loss: 3.7919 - val_acc: 0.4814\n",
            "Epoch 90/100\n",
            "50000/50000 [==============================] - 13s 253us/step - loss: 0.1979 - acc: 0.9321 - val_loss: 3.8697 - val_acc: 0.4877\n",
            "Epoch 91/100\n",
            "50000/50000 [==============================] - 13s 252us/step - loss: 0.2382 - acc: 0.9189 - val_loss: 3.6882 - val_acc: 0.4909\n",
            "Epoch 92/100\n",
            "50000/50000 [==============================] - 12s 249us/step - loss: 0.1614 - acc: 0.9445 - val_loss: 3.9462 - val_acc: 0.4830\n",
            "Epoch 93/100\n",
            "50000/50000 [==============================] - 13s 251us/step - loss: 0.2040 - acc: 0.9299 - val_loss: 3.7710 - val_acc: 0.4787\n",
            "Epoch 94/100\n",
            "50000/50000 [==============================] - 13s 250us/step - loss: 0.2077 - acc: 0.9298 - val_loss: 3.8137 - val_acc: 0.4850\n",
            "Epoch 95/100\n",
            "50000/50000 [==============================] - 13s 251us/step - loss: 0.1697 - acc: 0.9415 - val_loss: 3.8742 - val_acc: 0.4938\n",
            "Epoch 96/100\n",
            "50000/50000 [==============================] - 13s 250us/step - loss: 0.1770 - acc: 0.9400 - val_loss: 3.8520 - val_acc: 0.4908\n",
            "Epoch 97/100\n",
            "50000/50000 [==============================] - 13s 252us/step - loss: 0.1561 - acc: 0.9475 - val_loss: 3.9870 - val_acc: 0.4791\n",
            "Epoch 98/100\n",
            "50000/50000 [==============================] - 13s 251us/step - loss: 0.2207 - acc: 0.9269 - val_loss: 3.9469 - val_acc: 0.4920\n",
            "Epoch 99/100\n",
            "50000/50000 [==============================] - 13s 250us/step - loss: 0.1827 - acc: 0.9371 - val_loss: 3.9290 - val_acc: 0.4893\n",
            "Epoch 100/100\n",
            "50000/50000 [==============================] - 13s 251us/step - loss: 0.1501 - acc: 0.9496 - val_loss: 4.0336 - val_acc: 0.4810\n"
          ],
          "name": "stdout"
        },
        {
          "output_type": "execute_result",
          "data": {
            "text/plain": [
              "<keras.callbacks.History at 0x7f8dec084978>"
            ]
          },
          "metadata": {
            "tags": []
          },
          "execution_count": 11
        }
      ]
    },
    {
      "cell_type": "code",
      "metadata": {
        "id": "cmLi12TBm6H-",
        "colab_type": "code",
        "colab": {
          "base_uri": "https://localhost:8080/",
          "height": 545
        },
        "outputId": "aaef6059-774f-45b9-d693-04275160bfa4"
      },
      "source": [
        "import matplotlib.pyplot as plt\n",
        "\n",
        "\n",
        "train_loss = model.history.history[\"loss\"]\n",
        "valid_loss = model.history.history[\"val_loss\"]\n",
        "\n",
        "train_acc = model.history.history[\"acc\"]\n",
        "valid_acc = model.history.history[\"val_acc\"]\n",
        "\n",
        "plt.plot(range(len(train_loss)), train_loss, label=\"train loss\")\n",
        "plt.plot(range(len(valid_loss)), valid_loss, label=\"valid loss\")\n",
        "plt.legend()\n",
        "plt.title(\"Loss\")\n",
        "plt.show()\n",
        "\n",
        "plt.plot(range(len(train_acc)), train_acc, label=\"train accuracy\")\n",
        "plt.plot(range(len(valid_acc)), valid_acc, label=\"valid accuracy\")\n",
        "plt.legend()\n",
        "plt.title(\"Accuracy\")\n",
        "plt.show()"
      ],
      "execution_count": 12,
      "outputs": [
        {
          "output_type": "display_data",
          "data": {
            "image/png": "[encoded data removed]",
            "text/plain": [
              "<Figure size 432x288 with 1 Axes>"
            ]
          },
          "metadata": {
            "tags": []
          }
        },
        {
          "output_type": "display_data",
          "data": {
            "image/png": "[encoded data removed]",
            "text/plain": [
              "<Figure size 432x288 with 1 Axes>"
            ]
          },
          "metadata": {
            "tags": []
          }
        }
      ]
    }
  ]
}