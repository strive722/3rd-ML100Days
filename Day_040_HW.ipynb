{
 "cells": [
  {
   "cell_type": "markdown",
   "metadata": {},
   "source": [
    "## [作業重點]\n",
    "使用 Sklearn 中的 Lasso, Ridge 模型，來訓練各種資料集，務必了解送進去模型訓練的**資料型態**為何，也請了解模型中各項參數的意義。\n",
    "\n",
    "機器學習的模型非常多種，但要訓練的資料多半有固定的格式，確保你了解訓練資料的格式為何，這樣在應用新模型時，就能夠最快的上手開始訓練！"
   ]
  },
  {
   "cell_type": "markdown",
   "metadata": {},
   "source": [
    "## 練習時間\n",
    "試著使用 sklearn datasets 的其他資料集 (boston, ...)，來訓練自己的線性迴歸模型，並加上適當的正則化來觀察訓練情形。"
   ]
  },
  {
   "cell_type": "code",
   "execution_count": 2,
   "metadata": {},
   "outputs": [],
   "source": [
    "import numpy as np\n",
    "import matplotlib.pyplot as plt\n",
    "from sklearn import datasets, linear_model\n",
    "from sklearn.model_selection import train_test_split\n",
    "from sklearn.metrics import mean_squared_error, r2_score\n",
    "\n",
    "from sklearn.model_selection import cross_val_score\n",
    "\n",
    "import warnings\n",
    "warnings.filterwarnings('ignore')"
   ]
  },
  {
   "cell_type": "code",
   "execution_count": 3,
   "metadata": {},
   "outputs": [
    {
     "name": "stdout",
     "output_type": "stream",
     "text": [
      "target y : [24.  21.6 34.7 33.4 36.2] \n",
      "\n",
      "shape:\n",
      " (506, 13)\n",
      "\n",
      "feature name:\n",
      " ['CRIM' 'ZN' 'INDUS' 'CHAS' 'NOX' 'RM' 'AGE' 'DIS' 'RAD' 'TAX' 'PTRATIO'\n",
      " 'B' 'LSTAT']\n"
     ]
    }
   ],
   "source": [
    "\n",
    "# 讀取 boston 資料集 - ridge\n",
    "boston = datasets.load_boston()\n",
    "\n",
    "print('target y : %s \\n' % boston.target[0:5])\n",
    "print('shape:\\n', boston.data.shape)\n",
    "print('\\nfeature name:\\n', boston.feature_names)\n",
    "# print('\\ntarget names:\\n', boston.target_names)\n",
    "\n",
    "# # 為方便視覺化，我們只使用資料集中的 1 個 feature (column)\n",
    "# X = boston.data[:, np.newaxis, 2]\n",
    "# print(\"Data shape: \", X.shape) # 我們取出的其中一個 feature\n",
    "\n",
    "# 上述範例是為了視覺化方便只取1個feature，這次用所有feature\n",
    "X = boston.data\n",
    "y = boston.target\n",
    "\n",
    "# train test split - 切分訓練集/測試集\n",
    "X_train, X_test, y_train, y_test = train_test_split(X, y, test_size = 0.3, random_state = 87)"
   ]
  },
  {
   "cell_type": "code",
   "execution_count": 6,
   "metadata": {},
   "outputs": [
    {
     "name": "stdout",
     "output_type": "stream",
     "text": [
      "\n",
      " c.v. score : 0.4783611889654359\n",
      "\n",
      "[  33.40877011 -292.24672884  481.07153405  369.06269614 -966.37849405\n",
      "  589.81383056  232.61924401  288.3263166   802.72704593   37.81285219]\n",
      "MSE : 2939.42\n"
     ]
    }
   ],
   "source": [
    "# model - 建立一個線性回歸模型 - LinearRegression\n",
    "reg = linear_model.LinearRegression()\n",
    "\n",
    "# fit (train model) - 將訓練資料丟進去模型訓練\n",
    "reg.fit(X_train, y_train)\n",
    "# cross validation\n",
    "print(f'\\n c.v. score : {cross_val_score(reg, X_train, y_train, cv=5).mean()}\\n')\n",
    "\n",
    "# predict - 將測試資料丟進模型得到預測結果\n",
    "y_pred = reg.predict(X_test)\n",
    "\n",
    "\n",
    "print(reg.coef_)\n",
    "\n",
    "# evaluation - 預測值與實際值的差距，使用 MSE\n",
    "mse = mean_squared_error(y_test, y_pred)\n",
    "print(\"MSE : %.2f\" % mse)\n"
   ]
  },
  {
   "cell_type": "code",
   "execution_count": 7,
   "metadata": {},
   "outputs": [
    {
     "name": "stdout",
     "output_type": "stream",
     "text": [
      "\n",
      " c.v. score : 0.47832715911287227\n",
      "\n",
      "[  33.67286538 -291.04286293  481.70890733  368.32942092 -898.42842086\n",
      "  538.72767558  199.24998287  274.4977345   778.40546382   37.12251045]\n",
      "MSE : 2933.45\n"
     ]
    }
   ],
   "source": [
    "# model - 建立一個線性回歸模型 - Lasso\n",
    "lasso = linear_model.Lasso(alpha=0.001)\n",
    "\n",
    "# fit (train model) - 將訓練資料丟進去模型訓練\n",
    "lasso.fit(X_train, y_train)\n",
    "# cross validation\n",
    "print(f'\\n c.v. score : {cross_val_score(lasso, X_train, y_train, cv=5).mean()}\\n')\n",
    "\n",
    "# predict - 將測試資料丟進模型得到預測結果\n",
    "y_pred = lasso.predict(X_test)\n",
    "\n",
    "\n",
    "print(lasso.coef_)\n",
    "\n",
    "# evaluation - 預測值與實際值的差距，使用 MSE\n",
    "mse = mean_squared_error(y_test, y_pred)\n",
    "print(\"MSE : %.2f\" % mse)"
   ]
  },
  {
   "cell_type": "code",
   "execution_count": 8,
   "metadata": {},
   "outputs": [
    {
     "name": "stdout",
     "output_type": "stream",
     "text": [
      "\n",
      " c.v. score : 0.47859823453040945\n",
      "\n",
      "[  38.87160545 -283.00366006  485.04076958  362.44759568 -419.24994069\n",
      "  168.12496699  -18.83740996  203.84384894  594.04104023   37.9221091 ]\n",
      "MSE : 2908.78\n"
     ]
    }
   ],
   "source": [
    "# model - 建立一個線性回歸模型 - Ridge\n",
    "ridge = linear_model.Ridge(alpha=0.01)\n",
    "\n",
    "# fit (train model) - 將訓練資料丟進去模型訓練\n",
    "ridge.fit(X_train, y_train)\n",
    "# cross validation\n",
    "print(f'\\n c.v. score : {cross_val_score(ridge, X_train, y_train, cv=5).mean()}\\n')\n",
    "\n",
    "# predict - 將測試資料丟進模型得到預測結果\n",
    "y_pred = ridge.predict(X_test)\n",
    "\n",
    "\n",
    "print(ridge.coef_)\n",
    "\n",
    "# evaluation - 預測值與實際值的差距，使用 MSE\n",
    "mse = mean_squared_error(y_test, y_pred)\n",
    "print(\"MSE : %.2f\" % mse)"
   ]
  },
  {
   "cell_type": "code",
   "execution_count": null,
   "metadata": {},
   "outputs": [],
   "source": []
  }
 ],
 "metadata": {
  "kernelspec": {
   "display_name": "Python 3",
   "language": "python",
   "name": "python3"
  },
  "language_info": {
   "codemirror_mode": {
    "name": "ipython",
    "version": 3
   },
   "file_extension": ".py",
   "mimetype": "text/x-python",
   "name": "python",
   "nbconvert_exporter": "python",
   "pygments_lexer": "ipython3",
   "version": "3.7.0"
  }
 },
 "nbformat": 4,
 "nbformat_minor": 2
}
