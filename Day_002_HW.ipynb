{
 "cells": [
  {
   "cell_type": "markdown",
   "metadata": {},
   "source": [
    "## [作業目標]\n",
    "了解機器學習適合應用的領域與範疇。"
   ]
  },
  {
   "cell_type": "markdown",
   "metadata": {},
   "source": [
    "## [作業重點]\n",
    "透過瞭解機器學習的運作方式，找出非常適用機器學習應用的領域及其原因"
   ]
  },
  {
   "cell_type": "markdown",
   "metadata": {},
   "source": [
    "## 作業\n",
    "請找出一個你認為機器學習可以發光發熱的領域並闡述原因? "
   ]
  },
  {
   "cell_type": "markdown",
   "metadata": {},
   "source": [
    "我認為機器學習可以發光發熱的領域在自然語言處理（Natural language processing；NLP），是試著讓人工智慧能理解人類所寫的文字和所說的話語。NLP首先會分解詞性，稱之「語素分析」（morphemic analysis），在分解出最小的字義單位後，接著會進行「語法分析」（syntactic analysis），最後再透過「語意分析」（semantic analysis）來瞭解含意。\n",
    "\n",
    "輸出部分，自然語言處理也與生成文法（generative grammar）密切相關。生成文法理論認為，只要遵循規則即可生成文句。這也代表著，只要把規則組合在一起，便可能生成文章。\n",
    "\n",
    "在自然語言處理中，嚴格來說最具代表性的應用就是「聊天機器人」（Chatbot），它是一種如真人般，可透過文字訊息與人對話的程式。2016年，臉書推出了「Facebook Messenger Platform」，而Line也推出了「Messaging API」，因而促使這種搭載NLP技術的聊天機器人成為矚目的焦點。\n",
    "\n",
    "另外，由IBM所開發的華生（IBM Watson），也是應用NLP的人工智慧而成。華生可以從維基百科等語料庫中抽取知識，學習詞彙與詞彙之間的相關性。現在，就連軟體銀行（SoftBank）機器人Pepper也是搭載華生系統。\n",
    "\n",
    "聊天機器用途極廣應用產業也多只不過目前，由於在日常對話中，我們很常省略詞句，也不一定會提及時空背景，因此當前的Chatbot尚無法與人類進行天花亂墜的對話。所以說，現行多數的Chatbot廠商，還是會限定對話的環境與應用領域。"
   ]
  },
  {
   "cell_type": "code",
   "execution_count": null,
   "metadata": {},
   "outputs": [],
   "source": []
  }
 ],
 "metadata": {
  "kernelspec": {
   "display_name": "Python 3",
   "language": "python",
   "name": "python3"
  },
  "language_info": {
   "codemirror_mode": {
    "name": "ipython",
    "version": 3
   },
   "file_extension": ".py",
   "mimetype": "text/x-python",
   "name": "python",
   "nbconvert_exporter": "python",
   "pygments_lexer": "ipython3",
   "version": "3.7.0"
  }
 },
 "nbformat": 4,
 "nbformat_minor": 2
}
