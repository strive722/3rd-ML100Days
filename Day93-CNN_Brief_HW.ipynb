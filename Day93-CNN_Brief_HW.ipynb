{
  "nbformat": 4,
  "nbformat_minor": 0,
  "metadata": {
    "kernelspec": {
      "display_name": "Python 3",
      "language": "python",
      "name": "python3"
    },
    "language_info": {
      "codemirror_mode": {
        "name": "ipython",
        "version": 3
      },
      "file_extension": ".py",
      "mimetype": "text/x-python",
      "name": "python",
      "nbconvert_exporter": "python",
      "pygments_lexer": "ipython3",
      "version": "3.6.8"
    },
    "colab": {
      "name": "Day93-CNN_Brief_HW.ipynb",
      "provenance": [],
      "collapsed_sections": []
    }
  },
  "cells": [
    {
      "cell_type": "markdown",
      "metadata": {
        "id": "PT0GkNBu2Cls",
        "colab_type": "text"
      },
      "source": [
        "# 作業目標:\n",
        "    運用 Keras 模組建構CNN, 了解 CNN 的架構\n",
        "    \n",
        "    "
      ]
    },
    {
      "cell_type": "markdown",
      "metadata": {
        "id": "MlQEOImA2CmA",
        "colab_type": "text"
      },
      "source": [
        "# 作業重點\n",
        "(1)嘗試比對 Dense 與 layers.Conv2D 架構NN 的差異\n",
        "\n",
        "(2) 有沒有Pooling layer, 對於參數量的差異\n",
        "\n",
        "注意: input_shape 請勿修改"
      ]
    },
    {
      "cell_type": "code",
      "metadata": {
        "id": "pxjfeNw22CmH",
        "colab_type": "code",
        "colab": {
          "base_uri": "https://localhost:8080/",
          "height": 35
        },
        "outputId": "f2f2a5b6-fff3-4017-fe5c-db0ccf6575bc"
      },
      "source": [
        "#導入相關模組\n",
        "import keras\n",
        "from keras import layers\n",
        "from keras import models\n",
        "from keras.models import Sequential\n",
        "from keras.layers import Conv2D, Activation, MaxPooling2D, Flatten, Dense\n",
        "\n",
        "#確認keras 版本\n",
        "print(keras.__version__)"
      ],
      "execution_count": 7,
      "outputs": [
        {
          "output_type": "stream",
          "text": [
            "2.2.5\n"
          ],
          "name": "stdout"
        }
      ]
    },
    {
      "cell_type": "code",
      "metadata": {
        "id": "dP4Yn13m2Cme",
        "colab_type": "code",
        "colab": {
          "base_uri": "https://localhost:8080/",
          "height": 1000
        },
        "outputId": "43a23c54-5796-4057-9566-76882b04c9c9"
      },
      "source": [
        "'''\n",
        "model = Sequential([\n",
        "    Dense(xxx),\n",
        "    Activation(xxx),\n",
        "    Dense(xxx),\n",
        "    Activation(xxx),\n",
        "])\n",
        "'''\n",
        "#建立一個序列模型\n",
        "model_11_inputShape = Sequential([\n",
        "    Dense(32, input_shape=(784,)), # Notice Here ! input_shape=(784,) ! 若寫 input_shape=(28,28,1) 得到的答案不對喔！\n",
        "    Dense(100), # Notice Here\n",
        "    Activation('relu'),\n",
        "    Dense(10),\n",
        "    Activation('softmax'),\n",
        "])\n",
        "#輸出模型的堆疊\n",
        "model_11_inputShape.summary()\n",
        "\n",
        "\"\"\" 2. layers.Conv2D \"\"\"\n",
        "model_12 = Sequential([\n",
        "    layers.Conv2D(32, (3, 3), input_shape=(28, 28, 1)), # Notice Here ! 但這裡就是這樣寫了！ input_shape=(28,28,1)\n",
        "    Dense(100),\n",
        "    Activation('relu'),\n",
        "    Dense(10),\n",
        "    Activation('softmax')\n",
        "])\n",
        "#輸出模型的堆疊\n",
        "model_12.summary()\n",
        "\n",
        "model_12_2 = Sequential([\n",
        "    layers.Conv2D(32, (3, 3), input_shape=(28, 28, 1)), # Notice Here ! 但這裡就是這樣寫了！ input_shape=(28,28,1)\n",
        "    layers.Conv2D(25, (3, 3)),\n",
        "    Flatten(),\n",
        "    Dense(100),\n",
        "    Activation('relu'),\n",
        "    Dense(10),\n",
        "    Activation('softmax')\n",
        "])\n",
        "#輸出模型的堆疊\n",
        "model_12_2.summary()\n",
        "\n"
      ],
      "execution_count": 9,
      "outputs": [
        {
          "output_type": "stream",
          "text": [
            "Model: \"sequential_5\"\n",
            "_________________________________________________________________\n",
            "Layer (type)                 Output Shape              Param #   \n",
            "=================================================================\n",
            "dense_10 (Dense)             (None, 32)                25120     \n",
            "_________________________________________________________________\n",
            "dense_11 (Dense)             (None, 100)               3300      \n",
            "_________________________________________________________________\n",
            "activation_9 (Activation)    (None, 100)               0         \n",
            "_________________________________________________________________\n",
            "dense_12 (Dense)             (None, 10)                1010      \n",
            "_________________________________________________________________\n",
            "activation_10 (Activation)   (None, 10)                0         \n",
            "=================================================================\n",
            "Total params: 29,430\n",
            "Trainable params: 29,430\n",
            "Non-trainable params: 0\n",
            "_________________________________________________________________\n",
            "Model: \"sequential_6\"\n",
            "_________________________________________________________________\n",
            "Layer (type)                 Output Shape              Param #   \n",
            "=================================================================\n",
            "conv2d_6 (Conv2D)            (None, 26, 26, 32)        320       \n",
            "_________________________________________________________________\n",
            "dense_13 (Dense)             (None, 26, 26, 100)       3300      \n",
            "_________________________________________________________________\n",
            "activation_11 (Activation)   (None, 26, 26, 100)       0         \n",
            "_________________________________________________________________\n",
            "dense_14 (Dense)             (None, 26, 26, 10)        1010      \n",
            "_________________________________________________________________\n",
            "activation_12 (Activation)   (None, 26, 26, 10)        0         \n",
            "=================================================================\n",
            "Total params: 4,630\n",
            "Trainable params: 4,630\n",
            "Non-trainable params: 0\n",
            "_________________________________________________________________\n",
            "Model: \"sequential_7\"\n",
            "_________________________________________________________________\n",
            "Layer (type)                 Output Shape              Param #   \n",
            "=================================================================\n",
            "conv2d_7 (Conv2D)            (None, 26, 26, 32)        320       \n",
            "_________________________________________________________________\n",
            "conv2d_8 (Conv2D)            (None, 24, 24, 25)        7225      \n",
            "_________________________________________________________________\n",
            "flatten_3 (Flatten)          (None, 14400)             0         \n",
            "_________________________________________________________________\n",
            "dense_15 (Dense)             (None, 100)               1440100   \n",
            "_________________________________________________________________\n",
            "activation_13 (Activation)   (None, 100)               0         \n",
            "_________________________________________________________________\n",
            "dense_16 (Dense)             (None, 10)                1010      \n",
            "_________________________________________________________________\n",
            "activation_14 (Activation)   (None, 10)                0         \n",
            "=================================================================\n",
            "Total params: 1,448,655\n",
            "Trainable params: 1,448,655\n",
            "Non-trainable params: 0\n",
            "_________________________________________________________________\n"
          ],
          "name": "stdout"
        }
      ]
    },
    {
      "cell_type": "markdown",
      "metadata": {
        "id": "vBCCi1hH2Cmr",
        "colab_type": "text"
      },
      "source": [
        "# layers.Conv2D 模型, 用作比對\n",
        "\n",
        "![CNN_Model.png](attachment:CNN_Model.png)\n",
        "\n"
      ]
    },
    {
      "cell_type": "code",
      "metadata": {
        "id": "xpG9XTU42Cmv",
        "colab_type": "code",
        "colab": {
          "base_uri": "https://localhost:8080/",
          "height": 417
        },
        "outputId": "b8960fcb-f398-4d2c-8922-715edb274b13"
      },
      "source": [
        "'''\n",
        "#建立一個序列模型\n",
        "model = models.Sequential()\n",
        "#建立兩個卷績層, 32 個內核, 內核大小 3x3, \n",
        "#輸入影像大小 28x28x1\n",
        "\n",
        "#建立一個全連接層\n",
        "model.add(Dense(units=100))\n",
        "model.add(Activation('relu'))\n",
        "\n",
        "#建立一個輸出層, 並採用softmax\n",
        "model.add(Dense(units=10))\n",
        "model.add(Activation('softmax'))\n",
        "'''\n",
        "#model.summary()\n",
        "#建立一個序列模型\n",
        "model_2 = models.Sequential()\n",
        "\n",
        "#建立一個卷績層, 32 個內核, 內核大小 3x3, \n",
        "#輸入影像大小 28x28x1\n",
        "model_2.add(layers.Conv2D(32, (3, 3), input_shape=(28, 28, 1)))\n",
        "# #新增一池化層, 採用maxpooling\n",
        "# model_2.add(MaxPooling2D(2,2))\n",
        "\n",
        "#建立第二個卷績層, 池化層, \n",
        "#請注意, 不需要再輸入 input_shape\n",
        "model_2.add(layers.Conv2D(25, (3, 3)))\n",
        "# model_2.add(MaxPooling2D(2,2))\n",
        "\n",
        "#新增平坦層\n",
        "model_2.add(Flatten())\n",
        "\n",
        "#建立一個全連接層\n",
        "model_2.add(Dense(units=100))\n",
        "model_2.add(Activation('relu'))\n",
        "\n",
        "#建立一個輸出層, 並採用softmax\n",
        "model_2.add(Dense(units=10))\n",
        "model_2.add(Activation('softmax'))\n",
        "\n",
        "#輸出模型的堆疊\n",
        "model_2.summary()\n"
      ],
      "execution_count": 10,
      "outputs": [
        {
          "output_type": "stream",
          "text": [
            "Model: \"sequential_8\"\n",
            "_________________________________________________________________\n",
            "Layer (type)                 Output Shape              Param #   \n",
            "=================================================================\n",
            "conv2d_9 (Conv2D)            (None, 26, 26, 32)        320       \n",
            "_________________________________________________________________\n",
            "conv2d_10 (Conv2D)           (None, 24, 24, 25)        7225      \n",
            "_________________________________________________________________\n",
            "flatten_4 (Flatten)          (None, 14400)             0         \n",
            "_________________________________________________________________\n",
            "dense_17 (Dense)             (None, 100)               1440100   \n",
            "_________________________________________________________________\n",
            "activation_15 (Activation)   (None, 100)               0         \n",
            "_________________________________________________________________\n",
            "dense_18 (Dense)             (None, 10)                1010      \n",
            "_________________________________________________________________\n",
            "activation_16 (Activation)   (None, 10)                0         \n",
            "=================================================================\n",
            "Total params: 1,448,655\n",
            "Trainable params: 1,448,655\n",
            "Non-trainable params: 0\n",
            "_________________________________________________________________\n"
          ],
          "name": "stdout"
        }
      ]
    },
    {
      "cell_type": "code",
      "metadata": {
        "id": "CMK3KQmC5y6f",
        "colab_type": "code",
        "colab": {
          "base_uri": "https://localhost:8080/",
          "height": 35
        },
        "outputId": "af353d71-783a-4c08-9b56-d421fd2c8256"
      },
      "source": [
        "1448655 / 71155"
      ],
      "execution_count": 11,
      "outputs": [
        {
          "output_type": "execute_result",
          "data": {
            "text/plain": [
              "20.359145527369826"
            ]
          },
          "metadata": {
            "tags": []
          },
          "execution_count": 11
        }
      ]
    },
    {
      "cell_type": "code",
      "metadata": {
        "id": "OKXVcU-v52Qx",
        "colab_type": "code",
        "colab": {}
      },
      "source": [
        "print(\"沒有 Pooling layer 的參數數量 是有 Pooling layer 的 %s 倍\" % (model_2.count_params() / model.count_params()))\n"
      ],
      "execution_count": 0,
      "outputs": []
    },
    {
      "cell_type": "markdown",
      "metadata": {
        "id": "iwLg5-qG8O_b",
        "colab_type": "text"
      },
      "source": [
        "# 沒有 Pooling layer 的參數數量 是有 Pooling layer 的 20.359145527369826 倍"
      ]
    },
    {
      "cell_type": "code",
      "metadata": {
        "id": "n7CwuJYW8Svj",
        "colab_type": "code",
        "colab": {}
      },
      "source": [
        ""
      ],
      "execution_count": 0,
      "outputs": []
    }
  ]
}