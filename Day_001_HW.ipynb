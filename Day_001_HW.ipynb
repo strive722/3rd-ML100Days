{
 "cells": [
  {
   "cell_type": "markdown",
   "metadata": {},
   "source": [
    "## 練習時間\n",
    "#### 請寫一個函式用來計算 Mean Square Error\n",
    "$ MSE = \\frac{1}{n}\\sum_{i=1}^{n}{(Y_i - \\hat{Y}_i)^2} $\n",
    "\n",
    "### Hint: [如何取平方](https://googoodesign.gitbooks.io/-ezpython/unit-1.html)"
   ]
  },
  {
   "cell_type": "markdown",
   "metadata": {},
   "source": [
    "# [作業目標]\n",
    "- 仿造範例的MAE函數, 自己寫一個MSE函數(參考上面公式)"
   ]
  },
  {
   "cell_type": "markdown",
   "metadata": {},
   "source": [
    "# [作業重點]\n",
    "- 注意程式的縮排\n",
    "- 是否能將數學公式, 轉換為 Python 的函式組合? (In[2], Out[2])"
   ]
  },
  {
   "cell_type": "markdown",
   "metadata": {},
   "source": [
    "# [作業1]"
   ]
  },
  {
   "cell_type": "code",
   "execution_count": null,
   "metadata": {},
   "outputs": [],
   "source": [
    "import numpy as np\n",
    "import matplotlib.pyplot as plt"
   ]
  },
  {
   "cell_type": "code",
   "execution_count": 13,
   "metadata": {},
   "outputs": [
    {
     "data": {
      "image/png": "[encoded data removed]",
      "text/plain": [
       "<Figure size 432x288 with 1 Axes>"
      ]
     },
     "metadata": {
      "needs_background": "light"
     },
     "output_type": "display_data"
    }
   ],
   "source": [
    "w = 3\n",
    "b = 0.5\n",
    "x_lin = np.linspace(0, 100, 101)\n",
    "y = (x_lin + np.random.randn(101) * 5) * w + b\n",
    "\n",
    "plt.plot(x_lin, y, 'b.', label = 'data points')\n",
    "plt.title(\"Assume we have data points\")\n",
    "plt.legend(loc = 2)\n",
    "plt.show()"
   ]
  },
  {
   "cell_type": "code",
   "execution_count": 14,
   "metadata": {},
   "outputs": [
    {
     "data": {
      "image/png": "[encoded data removed]",
      "text/plain": [
       "<Figure size 432x288 with 1 Axes>"
      ]
     },
     "metadata": {
      "needs_background": "light"
     },
     "output_type": "display_data"
    }
   ],
   "source": [
    "y_hat = x_lin * w + b\n",
    "plt.plot(x_lin, y, 'b.', label = 'data')\n",
    "plt.plot(x_lin, y_hat, 'r-', label = 'prediction')\n",
    "plt.title(\"Assume we have data points (And the prediction)\")\n",
    "plt.legend(loc = 2)\n",
    "plt.show()"
   ]
  },
  {
   "cell_type": "code",
   "execution_count": 15,
   "metadata": {},
   "outputs": [
    {
     "name": "stdout",
     "output_type": "stream",
     "text": [
      "The Mean absolute error is 11.751\n"
     ]
    }
   ],
   "source": [
    "def mean_absolute_error(y, yp):\n",
    "    \"\"\"\n",
    "    計算 MAE\n",
    "    Args:\n",
    "        - y: 實際值\n",
    "        - yp: 預測值\n",
    "    Return:\n",
    "        - mae: MAE\n",
    "    \"\"\"\n",
    "    mae = MAE = sum(abs(y - yp)) / len(y)\n",
    "    return mae\n",
    "\n",
    "MAE = mean_absolute_error(y, y_hat)\n",
    "print(\"The Mean absolute error is %.3f\" % (MAE))\n"
   ]
  },
  {
   "cell_type": "markdown",
   "metadata": {},
   "source": [
    "## 請寫一個函式用來計算 Mean Square Error¶\n",
    "## MSE=1n∑ni=1(Yi−Y^i)2"
   ]
  },
  {
   "cell_type": "code",
   "execution_count": 16,
   "metadata": {},
   "outputs": [
    {
     "name": "stdout",
     "output_type": "stream",
     "text": [
      "The Mean Square Error is 222.153\n"
     ]
    }
   ],
   "source": [
    "def mean_square_Error(y, yp):\n",
    "    \"\"\"\n",
    "    計算 MSE\n",
    "    Args:\n",
    "        - y: 實際值\n",
    "        - yp: 預測值\n",
    "    Return:\n",
    "        - mse: MSE\n",
    "    \"\"\"\n",
    "    mse = sum((y - yp) ** 2) / len(y)   # mse = ((y - y1)**2).mean()\n",
    "    return mse\n",
    "\n",
    "mse = mean_square_Error(y, y_hat)\n",
    "print(\"The Mean Square Error is %.3f\" % (mse))"
   ]
  },
  {
   "cell_type": "markdown",
   "metadata": {
    "collapsed": true
   },
   "source": [
    "### 統計指標實作範例¶\n",
    "### 常見於迴歸問題的評估指標\n",
    "## Mean Absolute Error (MAE)\n",
    "\n",
    "## Mean Squared Error (MSE)\n",
    "\n",
    "### 常見於分類問題的指標\n",
    "## Binary Cross Entropy (CE)"
   ]
  },
  {
   "cell_type": "markdown",
   "metadata": {},
   "source": [
    "# [作業2]\n",
    "\n",
    "請上 Kaggle, 在 Competitions 或 Dataset 中找一組競賽或資料並寫下：\n",
    "\n",
    "\n",
    " 我選 Titanic : Machine Learning from Disaster\n",
    "\n",
    "1. 你選的這組資料為何重要\n",
    "    初階的二元分類問題、已經把資料整理成相對乾淨的資料集，可以花較多心力在資料探索和\n",
    "    特徵工程，適合新手入門\n",
    "   \n",
    "2. 資料從何而來 (tips: 譬如提供者是誰、以什麼方式蒐集)\n",
    "   根據歷史事件的乘客紀錄、相關背景調查而來的資料集\n",
    "   \n",
    "3. 蒐集而來的資料型態為何\n",
    "   CSV\n",
    "\n",
    "4. 這組資料想解決的問題如何評估\n",
    "   根據鐵達尼號上的乘客資料來預測該名乘客是生還或死亡\n",
    "\n",
    "   評估方式：Accuracy\n",
    "\n",
    "\n",
    "# [作業3]\n",
    "\n",
    "想像你經營一個自由載客車隊，你希望能透過數據分析以提升業績，請你思考並描述你如何規劃整體的分析/解決方案：\n",
    "\n",
    "1. 核心問題為何 (tips：如何定義 「提升業績 & 你的假設」)\n",
    "   假設能透過「載客熱點」的預測，降低空車率以及讓整體調度更有效率，或鎖定乘車需求較多的  某些時段和地點積極搶客，則可提升業績\n",
    "   \n",
    "2. 資料從何而來 (tips：哪些資料可能會對你想問的問題產生影響 & 資料如何蒐集)\n",
    "   行車紀錄的載客資料： gps資料 - 乘客上車及下車位置（紀錄地點及載客距離）、當次載客人數、乘車時間\n",
    "\n",
    "google map：該地區有無特殊地標（醫院、學校、KTV、夜市、大型商場等）\n",
    "\n",
    "其他大眾運輸工具：是否設有公車站、ubike站等\n",
    "\n",
    "行事曆資料：是否為國定假日、連續假期、小週末、特殊節慶或紀念日等等\n",
    "\n",
    "\n",
    "3. 蒐集而來的資料型態為何\n",
    "   csv, tsv, txt, json： 表格型態；關連式資料\n",
    "   jpeg(地圖)：非關連式資料\n",
    "   \n",
    "4. 你要回答的問題，其如何評估 (tips：你的假設如何驗證)\n",
    "   \n",
    "可將方法定義為一「回歸問題」：透過劃分地圖為各小區塊，來預測例如每一個小時該區塊的乘車人數\n",
    "\n",
    "評估指標：RMSE(Root Mean Square Error)"
   ]
  }
 ],
 "metadata": {
  "anaconda-cloud": {},
  "kernelspec": {
   "display_name": "Python 3",
   "language": "python",
   "name": "python3"
  },
  "language_info": {
   "codemirror_mode": {
    "name": "ipython",
    "version": 3
   },
   "file_extension": ".py",
   "mimetype": "text/x-python",
   "name": "python",
   "nbconvert_exporter": "python",
   "pygments_lexer": "ipython3",
   "version": "3.7.0"
  }
 },
 "nbformat": 4,
 "nbformat_minor": 1
}
