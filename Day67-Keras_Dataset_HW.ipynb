{
 "cells": [
  {
   "cell_type": "markdown",
   "metadata": {},
   "source": [
    "# 作業目標:\n",
    "\n",
    "    使用CIFAR100, 數據集變大的影響\n",
    "    \n",
    "    \n",
    "# 作業重點:¶\n",
    "\n",
    "   了解 CIFAR100 跟 CIFAR10 數據及差異\n"
   ]
  },
  {
   "cell_type": "code",
   "execution_count": null,
   "metadata": {},
   "outputs": [],
   "source": [
    "import numpy\n",
    "from keras.datasets import cifar100\n",
    "import numpy as np\n",
    "np.random.seed(100)"
   ]
  },
  {
   "cell_type": "markdown",
   "metadata": {},
   "source": [
    "# 資料準備"
   ]
  },
  {
   "cell_type": "code",
   "execution_count": null,
   "metadata": {},
   "outputs": [],
   "source": [
    "(x_img_train,y_label_train), (x_img_test, y_label_test) = cifar100.load_data(label_mode='fine')"
   ]
  },
  {
   "cell_type": "code",
   "execution_count": null,
   "metadata": {},
   "outputs": [],
   "source": [
    "print('train:',len(x_img_train))\n",
    "print('test :',len(x_img_test))"
   ]
  },
  {
   "cell_type": "code",
   "execution_count": null,
   "metadata": {},
   "outputs": [],
   "source": [
    "# 查詢檔案維度資訊\n",
    "print(\"x_img_train.shape\", x_img_train.shape)\n",
    "print(\"y_label_train.shape\", y_label_train.shape, \"\\n\")\n",
    "\n",
    "print(\"x_img_test.shape\", x_img_test.shape)\n",
    "print(\"y_label_test.shape\", y_label_test.shape)"
   ]
  },
  {
   "cell_type": "code",
   "execution_count": null,
   "metadata": {},
   "outputs": [],
   "source": [
    "# #針對物件圖像數據集的類別編列成字典\n",
    "# label_dict={0 : \"aquatic mammals\", \n",
    "#             1 : \"fish\",\n",
    "#             2 : \"flowers\",\n",
    "#             3 : \"food containers\",\n",
    "#             4 : \"fruit and vegetables\",\n",
    "#             5 : \"household electrical devices\",\n",
    "#             6 : \"household furniture\",\n",
    "#             7 : \"insects\",\n",
    "#             8 : \"large carnivores\",\n",
    "#             9 : \"large man-made outdoor things\",\n",
    "#            10 : \"large natural outdoor scenes\",\n",
    "#            11 : \"large omnivores and herbivores\",\n",
    "#            12 : \"medium-sized mammals\",\n",
    "#            13 : \"non-insect invertebrates\",\n",
    "#            14 : \"people\",\n",
    "#            15 : \"reptiles\",\n",
    "#            16 : \"small mammals\",\n",
    "#            17 : \"trees\",\n",
    "#            18 : \"vehicles 1\",\n",
    "#            19 : \"vehicles 2\"}"
   ]
  },
  {
   "cell_type": "code",
   "execution_count": null,
   "metadata": {},
   "outputs": [],
   "source": [
    "# classes = [\n",
    "# \"beaver\", \"dolphin\", \"otter\", \"seal\", \"whale\",\n",
    "# \"aquarium_fish\", \"flatfish\", \"ray\", \"shark\", \"trout\",\n",
    "# \"orchids\", \"poppies\", \"roses\", \"sunflowers\", \"tulips\",\n",
    "# \"bottles\", \"bowls\", \"cans\", \"cups\", \"plates\",\n",
    "# \"apples\", \"mushrooms\", \"oranges\", \"pears\", \"sweet_peppers\",\n",
    "# \"clock\", \"computer\" \"keyboard\", \"lamp\", \"telephone\", \"television\",\n",
    "# \"bed\", \"chair\", \"couch\", \"table\", \"wardrobe\",\n",
    "# \"bee\", \"beetle\", \"butterfly\", \"caterpillar\", \"cockroach\",\n",
    "# \"bear\", \"leopard\", \"lion\", \"tiger\", \"wolf\",\n",
    "# \"bridge\", \"castle\", \"house\", \"road\", \"skyscraper\",\n",
    "# \"cloud\", \"forest\", \"mountain\", \"plain\", \"sea\",\n",
    "# \"camel\", \"cattle\", \"chimpanzee\", \"elephant\", \"kangaroo\",\n",
    "# \"fox\", \"porcupine\", \"possum\", \"raccoon\", \"skunk\",\n",
    "# \"crab\", \"lobster\", \"snail\", \"spider\", \"worm\",\n",
    "# \"baby\", \"boy\", \"girl\", \"man\", \"woman\",\n",
    "# \"crocodile\", \"dinosaur\", \"lizard\", \"snake\", \"turtle\",\n",
    "# \"hamster\", \"mouse\", \"rabbit\", \"shrew\", \"squirrel\",\n",
    "# \"maple\", \"oak\", \"palm\", \"pine\", \"willow\",\n",
    "# \"bicycle\", \"bus\", \"motorcycle\", \"pickup_truck\", \"train\",\n",
    "# \"lawn_mower\", \"rocket\", \"streetcar\", \"tank\", \"tractor\"\n",
    "# ]"
   ]
  },
  {
   "cell_type": "code",
   "execution_count": null,
   "metadata": {},
   "outputs": [],
   "source": [
    "# len(classes)"
   ]
  },
  {
   "cell_type": "code",
   "execution_count": null,
   "metadata": {},
   "outputs": [],
   "source": [
    "# import pandas as pd \n",
    "\n",
    "# df = pd.DataFrame({\"ind\" : range(0, len(classes)), \"class\" : classes})"
   ]
  },
  {
   "cell_type": "code",
   "execution_count": null,
   "metadata": {},
   "outputs": [],
   "source": [
    "# label_dict = {row[0]: row[1] for row in df.values}\n",
    "# label_dict"
   ]
  },
  {
   "cell_type": "code",
   "execution_count": null,
   "metadata": {},
   "outputs": [],
   "source": [
    "# #導入影像列印模組\n",
    "# import matplotlib.pyplot as plt\n",
    "\n",
    "# #宣告一個影像標記的函數\n",
    "# def plot_images_labels_prediction(images,labels,prediction,\n",
    "#                                   idx,num=10):\n",
    "#     fig = plt.gcf()\n",
    "#     fig.set_size_inches(12, 14)\n",
    "#     if num>25: num=25 \n",
    "#     for i in range(0, num):\n",
    "#         ax=plt.subplot(5,5, 1+i)\n",
    "#         ax.imshow(images[idx],cmap='binary')\n",
    "                \n",
    "#         title=str(i)+','+label_dict[labels[i][0]]\n",
    "#         if len(prediction)>0:\n",
    "#             title+='=>'+label_dict[prediction[i]]\n",
    "            \n",
    "#         ax.set_title(title,fontsize=10) \n",
    "#         ax.set_xticks([]);ax.set_yticks([])        \n",
    "#         idx+=1 \n",
    "#     plt.show()"
   ]
  },
  {
   "cell_type": "code",
   "execution_count": null,
   "metadata": {},
   "outputs": [],
   "source": [
    "# #針對不同的影像作標記\n",
    "\n",
    "# plot_images_labels_prediction(x_img_train,y_label_train,[],0)"
   ]
  },
  {
   "cell_type": "markdown",
   "metadata": {},
   "source": [
    "# Image normalize "
   ]
  },
  {
   "cell_type": "code",
   "execution_count": null,
   "metadata": {},
   "outputs": [],
   "source": [
    "x_img_train[0][0][0]"
   ]
  },
  {
   "cell_type": "code",
   "execution_count": null,
   "metadata": {},
   "outputs": [],
   "source": [
    "x_img_train_normalize = x_img_train.astype('float32') / 255.0\n",
    "x_img_test_normalize = x_img_test.astype('float32') / 255.0"
   ]
  },
  {
   "cell_type": "code",
   "execution_count": null,
   "metadata": {},
   "outputs": [],
   "source": [
    "x_img_train_normalize[0][0][0]"
   ]
  },
  {
   "cell_type": "markdown",
   "metadata": {},
   "source": [
    "# 轉換label 為OneHot Encoding"
   ]
  },
  {
   "cell_type": "code",
   "execution_count": null,
   "metadata": {},
   "outputs": [],
   "source": [
    "y_label_train.shape"
   ]
  },
  {
   "cell_type": "code",
   "execution_count": null,
   "metadata": {},
   "outputs": [],
   "source": [
    "y_label_train[:5]"
   ]
  },
  {
   "cell_type": "code",
   "execution_count": null,
   "metadata": {},
   "outputs": [],
   "source": [
    "from keras.utils import np_utils\n",
    "y_label_train_OneHot = np_utils.to_categorical(y_label_train)\n",
    "y_label_test_OneHot = np_utils.to_categorical(y_label_test)"
   ]
  },
  {
   "cell_type": "code",
   "execution_count": null,
   "metadata": {},
   "outputs": [],
   "source": [
    "y_label_train_OneHot.shape"
   ]
  },
  {
   "cell_type": "code",
   "execution_count": null,
   "metadata": {},
   "outputs": [],
   "source": [
    "y_label_train_OneHot[:5]"
   ]
  }
 ],
 "metadata": {
  "anaconda-cloud": {},
  "kernelspec": {
   "display_name": "Python 3",
   "language": "python",
   "name": "python3"
  }
 },
 "nbformat": 4,
 "nbformat_minor": 1
}
