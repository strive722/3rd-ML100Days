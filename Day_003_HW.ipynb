{
 "cells": [
  {
   "cell_type": "markdown",
   "metadata": {},
   "source": [
    "## [作業目標]\n",
    "持續接觸有關機器學習的相關專案與最新技術"
   ]
  },
  {
   "cell_type": "markdown",
   "metadata": {},
   "source": [
    "## [作業重點]\n",
    "透過觀察頂尖公司的機器學習文章，來了解各公司是怎麼應用機器學習在實際的專案上"
   ]
  },
  {
   "cell_type": "markdown",
   "metadata": {},
   "source": [
    "## [作業]\n",
    "今天的作業希望大家能夠看看全球機器學習巨頭們在做的機器學習專案。以 google 為例，下圖是 Google 內部專案使用機器學習的數量，隨著時間進展，現在早已超過 2000 個專案在使用機器學習。"
   ]
  },
  {
   "cell_type": "markdown",
   "metadata": {},
   "source": [
    "![image](https://cdn-images-1.medium.com/max/800/1*U_L8qI8RmYS-MOBrYvXhSA.png)"
   ]
  },
  {
   "cell_type": "markdown",
   "metadata": {},
   "source": [
    "底下幫同學整理幾間知名企業的 blog 或機器學習網站 (自行搜尋也可)，這些網站都會整理最新的機器學習專案或者是技術文章，請挑選一篇文章閱讀並試著回答\n",
    "1. 專案的目標？ (要解決什麼問題）\n",
    "2. 使用的技術是？ (只需知道名稱即可，例如：使用 CNN 卷積神經網路做影像分類)\n",
    "3. 資料來源？ "
   ]
  },
  {
   "cell_type": "markdown",
   "metadata": {},
   "source": [
    "- [Google AI blog](https://ai.googleblog.com/)\n",
    "- [Facebook Research blog](https://research.fb.com/blog/)\n",
    "- [Apple machine learning journal](https://machinelearning.apple.com/)\n",
    "- [機器之心](https://www.jiqizhixin.com/)\n",
    "- [雷鋒網](http://www.leiphone.com/category/ai)"
   ]
  },
  {
   "cell_type": "markdown",
   "metadata": {},
   "source": [
    "# 1.專案的目標？ (要解決什麼問題）\n",
    "\n",
    "### 设计更好的新药\n",
    "### 当新分子出现时，AI能够预测它是不是会具有毒性\n",
    "### 预测候选化合物在不同物理和化学环境下的反应，从而帮助药物研发人### 员理解它们在人体不同组织中的行为。\n",
    "\n",
    "\n",
    "# 2.使用的技術是？ (只需知道名稱即可，例如：使用 # CNN 卷積神經網路做影像分類)\n",
    "\n",
    "### “生成对抗网络“（generative adversarial network, GAN）来开发全新的小分子化合物，治疗癌症、代谢性疾病和神经退行性疾病等严重疾病。这一算法由两个互相对抗的深度神经网络构成。\n",
    "\n",
    "\n",
    "# 3.資料來源？\n",
    "\n",
    "\n",
    "### 人工智能遇上新药研发，它能给医药行业带来什么？\n",
    "### 網址https://www.jiqizhixin.com/articles/2019-08-27-7\n",
    "\n",
    "\n",
    "### 参考资料\n",
    "\n",
    "[1] Artificial Intelligence Shakes Up Drug Discovery. Retrieved August 24, 2019, from https://www.the-scientist.com/bio-business/artificial-intelligence-shakes-up-drug-discovery-65787\n",
    "\n",
    "[2] AI startups are racing into drug development. Here’s 5 burning questions about which will survive. Retrieved August 24, 2019, from https://www.statnews.com/2019/08/22/artificial-intelligence-drug-development-startups-growth/\n",
    "\n",
    "[3] Machine learning brings cell imaging promises into focus. Retrieved August 24, 2019, from https://www.nature.com/articles/d41573-019-00144-2\n",
    "\n",
    "[4] Bera et al., (2019). Artificial intelligence in digital pathology — new tools for diagnosis and precision oncology. Nature Reviews Clinical Oncology, https://doi.org/10.1038/s41571-019-0252-y\n",
    "\n",
    "[5] Warning of an AI winter, a skeptic argues deep learning in medicine needs a reboot. Retrieved August 24, 2019, from https://www.statnews.com/2019/08/21/ai-winter-deep-learning-oversold-in-medicine/"
   ]
  }
 ],
 "metadata": {
  "kernelspec": {
   "display_name": "Python 3",
   "language": "python",
   "name": "python3"
  },
  "language_info": {
   "codemirror_mode": {
    "name": "ipython",
    "version": 3
   },
   "file_extension": ".py",
   "mimetype": "text/x-python",
   "name": "python",
   "nbconvert_exporter": "python",
   "pygments_lexer": "ipython3",
   "version": "3.7.0"
  }
 },
 "nbformat": 4,
 "nbformat_minor": 2
}
