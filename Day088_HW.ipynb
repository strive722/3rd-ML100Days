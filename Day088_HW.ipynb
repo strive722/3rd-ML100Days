{
  "nbformat": 4,
  "nbformat_minor": 0,
  "metadata": {
    "kernelspec": {
      "display_name": "Python 3",
      "language": "python",
      "name": "python3"
    },
    "language_info": {
      "codemirror_mode": {
        "name": "ipython",
        "version": 3
      },
      "file_extension": ".py",
      "mimetype": "text/x-python",
      "name": "python",
      "nbconvert_exporter": "python",
      "pygments_lexer": "ipython3",
      "version": "3.6.5"
    },
    "colab": {
      "name": "Day088_HW.ipynb",
      "provenance": [],
      "collapsed_sections": []
    }
  },
  "cells": [
    {
      "cell_type": "markdown",
      "metadata": {
        "id": "zE0eUBv1FbDC",
        "colab_type": "text"
      },
      "source": [
        "## Work\n",
        "1. 請嘗試寫一個 callback 用來記錄各類別在訓練過程中，對驗證集的 True Positive 與 True Negative"
      ]
    },
    {
      "cell_type": "code",
      "metadata": {
        "id": "rmb_1DBZFbDU",
        "colab_type": "code",
        "colab": {}
      },
      "source": [
        "import os\n",
        "import keras\n",
        "\n",
        "# Disable GPU\n",
        "os.environ[\"CUDA_VISIBLE_DEVICES\"] = \"0\""
      ],
      "execution_count": 0,
      "outputs": []
    },
    {
      "cell_type": "code",
      "metadata": {
        "id": "FcDRgetAFbDm",
        "colab_type": "code",
        "colab": {
          "base_uri": "https://localhost:8080/",
          "height": 54
        },
        "outputId": "1b484e59-7ae7-4f18-b953-b80197eb47bf"
      },
      "source": [
        "train, test = keras.datasets.cifar10.load_data()"
      ],
      "execution_count": 3,
      "outputs": [
        {
          "output_type": "stream",
          "text": [
            "Downloading data from https://www.cs.toronto.edu/~kriz/cifar-10-python.tar.gz\n",
            "170500096/170498071 [==============================] - 4s 0us/step\n"
          ],
          "name": "stdout"
        }
      ]
    },
    {
      "cell_type": "code",
      "metadata": {
        "id": "6OmfUB2jFbD1",
        "colab_type": "code",
        "colab": {}
      },
      "source": [
        "## 資料前處理\n",
        "def preproc_x(x, flatten=True):\n",
        "    x = x / 255.\n",
        "    if flatten:\n",
        "        x = x.reshape((len(x), -1))\n",
        "    return x\n",
        "\n",
        "def preproc_y(y, num_classes=10):\n",
        "    if y.shape[-1] == 1:\n",
        "        y = keras.utils.to_categorical(y, num_classes)\n",
        "    return y    "
      ],
      "execution_count": 0,
      "outputs": []
    },
    {
      "cell_type": "code",
      "metadata": {
        "id": "SSBu8cqLFbEG",
        "colab_type": "code",
        "colab": {}
      },
      "source": [
        "x_train, y_train = train\n",
        "x_test, y_test = test\n",
        "\n",
        "# Preproc the inputs\n",
        "x_train = preproc_x(x_train)\n",
        "x_test = preproc_x(x_test)\n",
        "\n",
        "# Preprc the outputs\n",
        "y_train = preproc_y(y_train)\n",
        "y_test = preproc_y(y_test)"
      ],
      "execution_count": 0,
      "outputs": []
    },
    {
      "cell_type": "code",
      "metadata": {
        "id": "4UsNRz6XFbET",
        "colab_type": "code",
        "colab": {}
      },
      "source": [
        "from keras.layers import BatchNormalization\n",
        "\n",
        "\"\"\"\n",
        "建立神經網路，並加入 BN layer\n",
        "\"\"\"\n",
        "def build_mlp(input_shape, output_units=10, num_neurons=[512, 256, 128]):\n",
        "    \n",
        "    \n",
        "    input_layer = keras.layers.Input(input_shape)\n",
        "    \n",
        "    \n",
        "    for i, n_units in enumerate(num_neurons):\n",
        "        if i == 0:\n",
        "            x = keras.layers.Dense(units=n_units, \n",
        "                                   activation=\"relu\", \n",
        "                                   name=\"hidden_layer\"+str(i+1))(input_layer)\n",
        "            x = BatchNormalization()(x)\n",
        "        else:\n",
        "            x = keras.layers.Dense(units=n_units, \n",
        "                                   activation=\"relu\", \n",
        "                                   name=\"hidden_layer\"+str(i+1))(x)\n",
        "            x = BatchNormalization()(x)\n",
        "    \n",
        "    \n",
        "    out = keras.layers.Dense(units=output_units, activation=\"softmax\", name=\"output\")(x)\n",
        "    \n",
        "    model = keras.models.Model(inputs=[input_layer], outputs=[out])\n",
        "    return model\n",
        "    "
      ],
      "execution_count": 0,
      "outputs": []
    },
    {
      "cell_type": "code",
      "metadata": {
        "id": "VT4uVcXlFbEm",
        "colab_type": "code",
        "colab": {}
      },
      "source": [
        "## 超參數設定\n",
        "LEARNING_RATE = 1e-3\n",
        "EPOCHS = 25\n",
        "BATCH_SIZE = 1024\n",
        "MOMENTUM = 0.95"
      ],
      "execution_count": 0,
      "outputs": []
    },
    {
      "cell_type": "code",
      "metadata": {
        "id": "oPzqMpd6FbEz",
        "colab_type": "code",
        "colab": {
          "base_uri": "https://localhost:8080/",
          "height": 1000
        },
        "outputId": "947fda0a-63d9-4965-baf9-abe5795c6980"
      },
      "source": [
        "# 載入 Callbacks\n",
        "from keras.callbacks import Callback\n",
        "import numpy as np\n",
        "\n",
        "# Record_fp_tp\n",
        "class Record_tp_tn(Callback):\n",
        "    \"\"\"Code Here\n",
        "    撰寫一個紀錄 ture positive 與 true negative 數量的 callbacks    \n",
        "    \"\"\"\n",
        "    \n",
        "    \n",
        "    def on_train_begin(self, epoch, logs = {}):\n",
        "        logs = logs or {}\n",
        "        # 驗證集的 True Positive 與 True Negative\n",
        "        record_items = [\"val_tp\", \"val_tn\", \"val_fp\", \"val_fn\"]\n",
        "        for i in record_items:\n",
        "            if i not in self.params['metrics']:\n",
        "                self.params['metrics'].append(i)\n",
        "    \n",
        "    def on_epoch_end(self, epoch, logs = {}, thres=0.5):\n",
        "        logs = logs or {}\n",
        "        # Define y_true, y_pred\n",
        "        y_true = self.validation_data[1].argmax(axis = 1)\n",
        "        y_pred = self.model.predict(self.validation_data[0])\n",
        "        y_pred = (y_pred[:, 1] >= thres) * 1\n",
        "        # Calculate True Positive, True Negative\n",
        "        logs[\"val_tp\"] = np.sum(np.logical_and(y_pred == 1, y_true == 1))\n",
        "        logs[\"val_tn\"] = np.sum(np.logical_and(y_pred == 0, y_true == 0))\n",
        "        \n",
        "rec_tptn = Record_tp_tn()\n",
        "# build model\n",
        "model = build_mlp(input_shape=x_train.shape[1:])\n",
        "model.summary()\n",
        "\n",
        "optimizer = keras.optimizers.SGD(lr=LEARNING_RATE, nesterov=True, momentum=MOMENTUM)\n",
        "# compile\n",
        "model.compile(loss=\"categorical_crossentropy\", metrics=[\"accuracy\"], optimizer=optimizer)\n",
        "\n",
        "# fit\n",
        "\"\"\"Code Here\n",
        "將 callbacks 放入模型訓練流程中\n",
        "\"\"\"\n",
        "model.fit(x_train, y_train, \n",
        "          epochs=EPOCHS, \n",
        "          batch_size=BATCH_SIZE, \n",
        "          validation_data=(x_test, y_test), \n",
        "          shuffle=True,\n",
        "          callbacks=[rec_tptn]) # callbacks 紀錄 驗證集的 True Positive 與 True Negative\n",
        "\n",
        "\n",
        "# Collect results\n",
        "train_loss = model.history.history[\"loss\"]\n",
        "valid_loss = model.history.history[\"val_loss\"]\n",
        "train_acc = model.history.history[\"acc\"]\n",
        "valid_acc = model.history.history[\"val_acc\"]\n",
        "\n",
        "\"\"\"Code Here\n",
        "將 tp/tn 從訓練完的模型中取出\n",
        "\"\"\"\n",
        "valid_tp = model.history.history['val_tp']\n",
        "valid_tn = model.history.history['val_tn']\n",
        "# plot\n",
        "import matplotlib.pyplot as plt\n",
        "%matplotlib inline\n",
        "# plot loss\n",
        "plt.plot(range(len(train_loss)), train_loss, label=\"train loss\")\n",
        "plt.plot(range(len(valid_loss)), valid_loss, label=\"valid loss\")\n",
        "plt.legend()\n",
        "plt.title(\"Loss\")\n",
        "plt.show()\n",
        "# plot acc\n",
        "plt.plot(range(len(train_acc)), train_acc, label=\"train accuracy\")\n",
        "plt.plot(range(len(valid_acc)), valid_acc, label=\"valid accuracy\")\n",
        "plt.legend()\n",
        "plt.title(\"Accuracy\")\n",
        "plt.show()\n",
        "# plot TP, TN\n",
        "plt.plot(range(len(valid_tp)), valid_tp, label=\"valid tp\", color=\"navy\")\n",
        "plt.plot(range(len(valid_tn)), valid_tn, label=\"valid tn\", color=\"red\")\n",
        "plt.legend()\n",
        "plt.title(\"True positives and True Negatives\")\n",
        "plt.show()"
      ],
      "execution_count": 8,
      "outputs": [
        {
          "output_type": "stream",
          "text": [
            "WARNING:tensorflow:From /usr/local/lib/python3.6/dist-packages/keras/backend/tensorflow_backend.py:66: The name tf.get_default_graph is deprecated. Please use tf.compat.v1.get_default_graph instead.\n",
            "\n",
            "WARNING:tensorflow:From /usr/local/lib/python3.6/dist-packages/keras/backend/tensorflow_backend.py:541: The name tf.placeholder is deprecated. Please use tf.compat.v1.placeholder instead.\n",
            "\n",
            "WARNING:tensorflow:From /usr/local/lib/python3.6/dist-packages/keras/backend/tensorflow_backend.py:4432: The name tf.random_uniform is deprecated. Please use tf.random.uniform instead.\n",
            "\n",
            "WARNING:tensorflow:From /usr/local/lib/python3.6/dist-packages/keras/backend/tensorflow_backend.py:148: The name tf.placeholder_with_default is deprecated. Please use tf.compat.v1.placeholder_with_default instead.\n",
            "\n",
            "Model: \"model_1\"\n",
            "_________________________________________________________________\n",
            "Layer (type)                 Output Shape              Param #   \n",
            "=================================================================\n",
            "input_1 (InputLayer)         (None, 3072)              0         \n",
            "_________________________________________________________________\n",
            "hidden_layer1 (Dense)        (None, 512)               1573376   \n",
            "_________________________________________________________________\n",
            "batch_normalization_1 (Batch (None, 512)               2048      \n",
            "_________________________________________________________________\n",
            "hidden_layer2 (Dense)        (None, 256)               131328    \n",
            "_________________________________________________________________\n",
            "batch_normalization_2 (Batch (None, 256)               1024      \n",
            "_________________________________________________________________\n",
            "hidden_layer3 (Dense)        (None, 128)               32896     \n",
            "_________________________________________________________________\n",
            "batch_normalization_3 (Batch (None, 128)               512       \n",
            "_________________________________________________________________\n",
            "output (Dense)               (None, 10)                1290      \n",
            "=================================================================\n",
            "Total params: 1,742,474\n",
            "Trainable params: 1,740,682\n",
            "Non-trainable params: 1,792\n",
            "_________________________________________________________________\n",
            "WARNING:tensorflow:From /usr/local/lib/python3.6/dist-packages/keras/optimizers.py:793: The name tf.train.Optimizer is deprecated. Please use tf.compat.v1.train.Optimizer instead.\n",
            "\n",
            "WARNING:tensorflow:From /usr/local/lib/python3.6/dist-packages/keras/backend/tensorflow_backend.py:3576: The name tf.log is deprecated. Please use tf.math.log instead.\n",
            "\n",
            "WARNING:tensorflow:From /usr/local/lib/python3.6/dist-packages/tensorflow_core/python/ops/math_grad.py:1424: where (from tensorflow.python.ops.array_ops) is deprecated and will be removed in a future version.\n",
            "Instructions for updating:\n",
            "Use tf.where in 2.0, which has the same broadcast rule as np.where\n",
            "WARNING:tensorflow:From /usr/local/lib/python3.6/dist-packages/keras/backend/tensorflow_backend.py:1033: The name tf.assign_add is deprecated. Please use tf.compat.v1.assign_add instead.\n",
            "\n",
            "WARNING:tensorflow:From /usr/local/lib/python3.6/dist-packages/keras/backend/tensorflow_backend.py:1020: The name tf.assign is deprecated. Please use tf.compat.v1.assign instead.\n",
            "\n",
            "WARNING:tensorflow:From /usr/local/lib/python3.6/dist-packages/keras/backend/tensorflow_backend.py:3005: The name tf.Session is deprecated. Please use tf.compat.v1.Session instead.\n",
            "\n",
            "Train on 50000 samples, validate on 10000 samples\n",
            "Epoch 1/25\n",
            "WARNING:tensorflow:From /usr/local/lib/python3.6/dist-packages/keras/backend/tensorflow_backend.py:190: The name tf.get_default_session is deprecated. Please use tf.compat.v1.get_default_session instead.\n",
            "\n",
            "WARNING:tensorflow:From /usr/local/lib/python3.6/dist-packages/keras/backend/tensorflow_backend.py:197: The name tf.ConfigProto is deprecated. Please use tf.compat.v1.ConfigProto instead.\n",
            "\n",
            "WARNING:tensorflow:From /usr/local/lib/python3.6/dist-packages/keras/backend/tensorflow_backend.py:207: The name tf.global_variables is deprecated. Please use tf.compat.v1.global_variables instead.\n",
            "\n",
            "WARNING:tensorflow:From /usr/local/lib/python3.6/dist-packages/keras/backend/tensorflow_backend.py:216: The name tf.is_variable_initialized is deprecated. Please use tf.compat.v1.is_variable_initialized instead.\n",
            "\n",
            "WARNING:tensorflow:From /usr/local/lib/python3.6/dist-packages/keras/backend/tensorflow_backend.py:223: The name tf.variables_initializer is deprecated. Please use tf.compat.v1.variables_initializer instead.\n",
            "\n",
            "50000/50000 [==============================] - 11s 221us/step - loss: 2.2380 - acc: 0.2695 - val_loss: 2.0861 - val_acc: 0.3102\n",
            "Epoch 2/25\n",
            "50000/50000 [==============================] - 10s 197us/step - loss: 1.7377 - acc: 0.3971 - val_loss: 1.8296 - val_acc: 0.3861\n",
            "Epoch 3/25\n",
            "50000/50000 [==============================] - 10s 197us/step - loss: 1.6067 - acc: 0.4402 - val_loss: 1.7082 - val_acc: 0.4041\n",
            "Epoch 4/25\n",
            "50000/50000 [==============================] - 10s 193us/step - loss: 1.5320 - acc: 0.4668 - val_loss: 1.6341 - val_acc: 0.4318\n",
            "Epoch 5/25\n",
            "50000/50000 [==============================] - 10s 193us/step - loss: 1.4749 - acc: 0.4896 - val_loss: 1.5912 - val_acc: 0.4463\n",
            "Epoch 6/25\n",
            "50000/50000 [==============================] - 10s 194us/step - loss: 1.4301 - acc: 0.5041 - val_loss: 1.5712 - val_acc: 0.4535\n",
            "Epoch 7/25\n",
            "50000/50000 [==============================] - 10s 200us/step - loss: 1.3912 - acc: 0.5173 - val_loss: 1.5511 - val_acc: 0.4573\n",
            "Epoch 8/25\n",
            "50000/50000 [==============================] - 10s 201us/step - loss: 1.3568 - acc: 0.5323 - val_loss: 1.5368 - val_acc: 0.4647\n",
            "Epoch 9/25\n",
            "50000/50000 [==============================] - 10s 198us/step - loss: 1.3239 - acc: 0.5414 - val_loss: 1.5120 - val_acc: 0.4685\n",
            "Epoch 10/25\n",
            "50000/50000 [==============================] - 10s 202us/step - loss: 1.2933 - acc: 0.5527 - val_loss: 1.5318 - val_acc: 0.4654\n",
            "Epoch 11/25\n",
            "50000/50000 [==============================] - 9s 187us/step - loss: 1.2662 - acc: 0.5639 - val_loss: 1.4932 - val_acc: 0.4797\n",
            "Epoch 12/25\n",
            "50000/50000 [==============================] - 10s 193us/step - loss: 1.2389 - acc: 0.5739 - val_loss: 1.4793 - val_acc: 0.4851\n",
            "Epoch 13/25\n",
            "50000/50000 [==============================] - 10s 194us/step - loss: 1.2135 - acc: 0.5849 - val_loss: 1.4787 - val_acc: 0.4819\n",
            "Epoch 14/25\n",
            "50000/50000 [==============================] - 10s 193us/step - loss: 1.1873 - acc: 0.5929 - val_loss: 1.4772 - val_acc: 0.4871\n",
            "Epoch 15/25\n",
            "50000/50000 [==============================] - 10s 191us/step - loss: 1.1643 - acc: 0.6013 - val_loss: 1.4632 - val_acc: 0.4892\n",
            "Epoch 16/25\n",
            "50000/50000 [==============================] - 10s 197us/step - loss: 1.1410 - acc: 0.6088 - val_loss: 1.4602 - val_acc: 0.4935\n",
            "Epoch 17/25\n",
            "50000/50000 [==============================] - 9s 187us/step - loss: 1.1177 - acc: 0.6208 - val_loss: 1.4695 - val_acc: 0.4886\n",
            "Epoch 18/25\n",
            "50000/50000 [==============================] - 10s 194us/step - loss: 1.0954 - acc: 0.6255 - val_loss: 1.4810 - val_acc: 0.4882\n",
            "Epoch 19/25\n",
            "50000/50000 [==============================] - 10s 194us/step - loss: 1.0752 - acc: 0.6355 - val_loss: 1.4780 - val_acc: 0.4890\n",
            "Epoch 20/25\n",
            "50000/50000 [==============================] - 10s 195us/step - loss: 1.0540 - acc: 0.6436 - val_loss: 1.4617 - val_acc: 0.4919\n",
            "Epoch 21/25\n",
            "50000/50000 [==============================] - 10s 194us/step - loss: 1.0303 - acc: 0.6526 - val_loss: 1.4675 - val_acc: 0.4910\n",
            "Epoch 22/25\n",
            "50000/50000 [==============================] - 10s 198us/step - loss: 1.0087 - acc: 0.6599 - val_loss: 1.4744 - val_acc: 0.4932\n",
            "Epoch 23/25\n",
            "50000/50000 [==============================] - 10s 190us/step - loss: 0.9877 - acc: 0.6712 - val_loss: 1.4647 - val_acc: 0.4949\n",
            "Epoch 24/25\n",
            "50000/50000 [==============================] - 10s 204us/step - loss: 0.9675 - acc: 0.6751 - val_loss: 1.4612 - val_acc: 0.4942\n",
            "Epoch 25/25\n",
            "50000/50000 [==============================] - 10s 194us/step - loss: 0.9447 - acc: 0.6843 - val_loss: 1.4595 - val_acc: 0.4995\n"
          ],
          "name": "stdout"
        },
        {
          "output_type": "display_data",
          "data": {
            "image/png": "[encoded data removed]",
            "text/plain": [
              "<Figure size 432x288 with 1 Axes>"
            ]
          },
          "metadata": {
            "tags": []
          }
        },
        {
          "output_type": "display_data",
          "data": {
            "image/png": "[encoded data removed]",
            "text/plain": [
              "<Figure size 432x288 with 1 Axes>"
            ]
          },
          "metadata": {
            "tags": []
          }
        },
        {
          "output_type": "display_data",
          "data": {
            "image/png": "[encoded data removed]",
            "text/plain": [
              "<Figure size 432x288 with 1 Axes>"
            ]
          },
          "metadata": {
            "tags": []
          }
        }
      ]
    },
    {
      "cell_type": "code",
      "metadata": {
        "id": "5pIy_akZHxHi",
        "colab_type": "code",
        "colab": {}
      },
      "source": [
        ""
      ],
      "execution_count": 0,
      "outputs": []
    }
  ]
}