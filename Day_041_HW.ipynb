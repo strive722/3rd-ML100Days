{
 "cells": [
  {
   "cell_type": "markdown",
   "metadata": {},
   "source": [
    "## 作業\n",
    "\n",
    "\n",
    "\n",
    "閱讀以下兩篇文獻，了解決策樹原理，並試著回答後續的問題\n",
    "- [決策樹 (Decision Tree) - 中文](https://medium.com/@yehjames/%E8%B3%87%E6%96%99%E5%88%86%E6%9E%90-%E6%A9%9F%E5%99%A8%E5%AD%B8%E7%BF%92-%E7%AC%AC3-5%E8%AC%9B-%E6%B1%BA%E7%AD%96%E6%A8%B9-decision-tree-%E4%BB%A5%E5%8F%8A%E9%9A%A8%E6%A9%9F%E6%A3%AE%E6%9E%97-random-forest-%E4%BB%8B%E7%B4%B9-7079b0ddfbda)\n",
    "- [how decision tree works - 英文](http://dataaspirant.com/2017/01/30/how-decision-tree-algorithm-works/)\n",
    "\n",
    "1. 在分類問題中，若沒有任何限制，決策樹有辦法在訓練時將 training loss 完全降成 0 嗎？\n",
    "2. 決策樹只能用在分類問題嗎？還是可以用來解決回歸問題？\n"
   ]
  },
  {
   "cell_type": "markdown",
   "metadata": {},
   "source": [
    "# Q1：在分類問題中，若沒有任何限制，決策樹有辦法在訓練時將訓練的損失完全降成0嗎"
   ]
  },
  {
   "cell_type": "markdown",
   "metadata": {},
   "source": [
    "## 可以，當樹長得足夠深，有機交替訓練損失降成0，但經常會因會樹長得太深而產生過度擬合的問題\n",
    "\n",
    "## 過度擬合\n",
    "\n",
    "## 建立決策樹模型時，過度擬合是一個實際問題。當算法繼續深入研究以減少訓練集誤差，但是結果卻增加了測試集誤差，即模型的預測準確性下降時，就會考慮模型存在過擬合的問題。通常由於數據異常和不規則而建立許多分支時會發生這種情況。\n",
    "\n",
    "## 我們可以使用兩種方法來避免過度擬合：\n",
    "\n",
    "## 預修剪\n",
    "## 修剪後"
   ]
  },
  {
   "cell_type": "markdown",
   "metadata": {},
   "source": [
    "# Q2：決策樹只能用在分類問題嗎？還是可以用來解決回歸問題？"
   ]
  },
  {
   "cell_type": "markdown",
   "metadata": {},
   "source": [
    "### 也可以用在回歸問題：\n",
    "\n",
    "## CART －分類和回歸樹分類與回歸樹，是二叉樹，可以用於分類，也可以用於回歸問題，最先由Breiman等提出。分類樹的輸出是樣本的類別，回歸樹的輸出是一個實數。\n",
    "## GBDT / GBRT（梯度提升決策/回歸樹）梯度提升回歸樹\n"
   ]
  },
  {
   "cell_type": "code",
   "execution_count": null,
   "metadata": {},
   "outputs": [],
   "source": []
  }
 ],
 "metadata": {
  "kernelspec": {
   "display_name": "Python 3",
   "language": "python",
   "name": "python3"
  },
  "language_info": {
   "codemirror_mode": {
    "name": "ipython",
    "version": 3
   },
   "file_extension": ".py",
   "mimetype": "text/x-python",
   "name": "python",
   "nbconvert_exporter": "python",
   "pygments_lexer": "ipython3",
   "version": "3.7.0"
  }
 },
 "nbformat": 4,
 "nbformat_minor": 2
}
