{
 "cells": [
  {
   "cell_type": "markdown",
   "metadata": {},
   "source": [
    "# 作業目標:\n",
    "\n",
    "    通過建立多層的神經網路, 了解權值矩陣更新"
   ]
  },
  {
   "cell_type": "markdown",
   "metadata": {},
   "source": [
    "# 作業重點: \n",
    "\n",
    "3  層神經網路\n",
    "\n",
    "通過增加更多的中間層，以對更多關係的組合進行建模\n",
    "\n",
    "syn1 權值矩陣將隱層的組合輸出映射到最終結果，\n",
    "\n",
    "而在更新 syn1 的同時，還需要更新 syn0 權值矩陣，\n",
    "\n",
    "以從輸入資料中更好地產生這些組合"
   ]
  },
  {
   "cell_type": "code",
   "execution_count": 7,
   "metadata": {},
   "outputs": [],
   "source": [
    "# 定義並建立一神經網路\n",
    "class mul_layer():\n",
    "    \n",
    "    def _init_(self):\n",
    "        self.x = None\n",
    "        self.y = None\n",
    "        \n",
    "    # forward-propagation  \n",
    "    def forward(self, x, y):\n",
    "        self.x = x\n",
    "        self.y = y\n",
    "        out = x*y\n",
    "        return out\n",
    "    \n",
    "    # backward-propagation  \n",
    "    def backward(self, dout):\n",
    "        dx = dout * self.y\n",
    "        dy = dout * self.x\n",
    "        return dx, dy"
   ]
  },
  {
   "cell_type": "code",
   "execution_count": 8,
   "metadata": {},
   "outputs": [],
   "source": [
    "# 初始值設定\n",
    "n_X = 2\n",
    "price_Y = 100\n",
    "b_TAX = 1.1\n",
    "\n",
    "# 指定Build _Network組合\n",
    "mul_fruit_layer = mul_layer()\n",
    "mul_tax_layer = mul_layer()"
   ]
  },
  {
   "cell_type": "code",
   "execution_count": 11,
   "metadata": {},
   "outputs": [],
   "source": [
    "import numpy as np\n",
    " \n",
    "# Sigmoid 函數可以將任何值都映射到一個位於 0 到  1 範圍內的值。通過它，我們可以將實數轉化為概率值\n",
    "def nonlin(x, deriv = False) :\n",
    "    if (deriv == True) :\n",
    "        return x * (1-x)\n",
    "    return 1/(1+np.exp(-x))\n",
    "\n",
    "X = np.array([  [0,0,1],\n",
    "                [0,1,1],\n",
    "                [1,0,1],\n",
    "                [1,1,1] \n",
    "             ])  \n",
    "        \n",
    "\"\"\"\n",
    "define y for output dataset   \n",
    "\"\"\"\n",
    "y = np.array([ [0,0,1,1] \n",
    "             ]).T\n"
   ]
  },
  {
   "cell_type": "code",
   "execution_count": 14,
   "metadata": {},
   "outputs": [
    {
     "data": {
      "text/plain": [
       "array([[0, 0, 1],\n",
       "       [0, 1, 1],\n",
       "       [1, 0, 1],\n",
       "       [1, 1, 1]])"
      ]
     },
     "execution_count": 14,
     "metadata": {},
     "output_type": "execute_result"
    }
   ],
   "source": [
    "X"
   ]
  },
  {
   "cell_type": "code",
   "execution_count": 13,
   "metadata": {},
   "outputs": [
    {
     "data": {
      "text/plain": [
       "array([[0],\n",
       "       [0],\n",
       "       [1],\n",
       "       [1]])"
      ]
     },
     "execution_count": 13,
     "metadata": {},
     "output_type": "execute_result"
    }
   ],
   "source": [
    "y"
   ]
  },
  {
   "cell_type": "code",
   "execution_count": 16,
   "metadata": {},
   "outputs": [],
   "source": [
    "# seed random numbers to make calculation\n",
    "# deterministic (just a good practice)\n",
    "np.random.seed(1)\n",
    "# 亂數設定產生種子得到的權重初始化集仍是隨機分佈的，\n",
    "# 但每次開始訓練時，得到的權重初始集分佈都是完全一致的。\n",
    " \n",
    "# initialize weights randomly with mean 0\n",
    "syn0 = 2 * np.random.random((3,4)) - 1\n",
    "\"\"\"\n",
    "define syn1\n",
    "\"\"\"\n",
    "syn1 = 2 * np.random.random((4,1)) - 1\n",
    "\n",
    "\n",
    "iter = 0\n",
    "# 該神經網路權重矩陣的初始化操作。\n",
    "# 用 “syn0” 來代指 (即“輸入層-第一層隱層”間權重矩陣）\n",
    "# 用 “syn1” 來代指 (即“輸入層-第二層隱層”間權重矩陣）\n",
    "\n",
    "syn0_history = [syn0]\n",
    "syn1_history = [syn1]"
   ]
  },
  {
   "cell_type": "code",
   "execution_count": 17,
   "metadata": {},
   "outputs": [
    {
     "data": {
      "text/plain": [
       "array([[-0.16595599,  0.44064899, -0.99977125, -0.39533485],\n",
       "       [-0.70648822, -0.81532281, -0.62747958, -0.30887855],\n",
       "       [-0.20646505,  0.07763347, -0.16161097,  0.370439  ]])"
      ]
     },
     "execution_count": 17,
     "metadata": {},
     "output_type": "execute_result"
    }
   ],
   "source": [
    "syn0"
   ]
  },
  {
   "cell_type": "code",
   "execution_count": 18,
   "metadata": {},
   "outputs": [
    {
     "data": {
      "text/plain": [
       "array([[-0.5910955 ],\n",
       "       [ 0.75623487],\n",
       "       [-0.94522481],\n",
       "       [ 0.34093502]])"
      ]
     },
     "execution_count": 18,
     "metadata": {},
     "output_type": "execute_result"
    }
   ],
   "source": [
    "syn1"
   ]
  },
  {
   "cell_type": "markdown",
   "metadata": {},
   "source": [
    "神經網路訓練\n",
    "for 迴圈反覆運算式地多次執行訓練代碼，使得我們的網路能更好地擬合訓練集"
   ]
  },
  {
   "cell_type": "code",
   "execution_count": 20,
   "metadata": {},
   "outputs": [
    {
     "name": "stdout",
     "output_type": "stream",
     "text": [
      "Output After Training:\n",
      "[[0.00967022 0.00967012 0.00967177 0.00967097]\n",
      " [0.00786296 0.00786136 0.00786459 0.00786399]\n",
      " [0.99359177 0.9935933  0.99359037 0.99359086]\n",
      " [0.9921162  0.99211658 0.99211487 0.99211551]]\n",
      "\n",
      "\n",
      "\n",
      "[[0.50814095]\n",
      " [0.50661888]\n",
      " [0.96597979]\n",
      " [0.96581602]]\n"
     ]
    }
   ],
   "source": [
    "for iter in range(10000):\n",
    "    # forward propagation\n",
    "    l0 = X\n",
    "    l1 = nonlin(np.dot(l0, syn0))\n",
    "\n",
    "    # how much did we miss?\n",
    "    l1_error = y - l1\n",
    " \n",
    "    # multiply how much we missed by the \n",
    "    # slope of the sigmoid at the values in l1\n",
    "    l1_delta = l1_error * nonlin(l1, deriv = True)\n",
    "    \n",
    "    '''\n",
    "    新增\n",
    "    l2_error 該值說明了神經網路預測時“丟失”的數目。\n",
    "    l2_delta 該值為經確信度加權後的神經網路的誤差，除了確信誤差很小時，它近似等於預測誤差。\n",
    "    '''\n",
    "    # forward propagation\n",
    "    l2 = nonlin(np.dot(l1, syn1))\n",
    "    \n",
    "    # how much did we miss?\n",
    "    l2_error = y - l2\n",
    "    \n",
    "    # multiply how much we missed by the \n",
    "    # slope of the sigmoid at the values in l1\n",
    "    l2_delta = l2_error * nonlin(l2, deriv = True)\n",
    "    \n",
    "    \n",
    "    # update weights\n",
    "    syn0 += np.dot(l0.T, l1_delta)\n",
    "    \"\"\"\n",
    "    syn1 update weights\n",
    "    \"\"\"\n",
    "    syn1 += np.dot(l1.T, l2_delta)\n",
    "    \n",
    "    \n",
    "    \n",
    "    \n",
    "    \n",
    "    \n",
    "    \n",
    "print(\"Output After Training:\")\n",
    "print(l1)\n",
    "print(\"\\n\\n\")\n",
    "print(l2)"
   ]
  },
  {
   "cell_type": "code",
   "execution_count": 21,
   "metadata": {},
   "outputs": [
    {
     "data": {
      "image/png": "[encoded data removed]",
      "text/plain": [
       "<Figure size 432x288 with 1 Axes>"
      ]
     },
     "metadata": {
      "needs_background": "light"
     },
     "output_type": "display_data"
    }
   ],
   "source": [
    "import matplotlib.pyplot as plt\n",
    "%matplotlib inline \n",
    "#適用於 Jupyter Notebook, 宣告直接在cell 內印出執行結果\n",
    "\n",
    "plt.plot(syn0_history[0], ms=3, lw=1.5, color='orange')\n",
    "plt.xlabel(r'$L1$', fontsize=16)\n",
    "plt.show()"
   ]
  },
  {
   "cell_type": "code",
   "execution_count": 22,
   "metadata": {},
   "outputs": [
    {
     "data": {
      "image/png": "[encoded data removed]",
      "text/plain": [
       "<Figure size 432x288 with 1 Axes>"
      ]
     },
     "metadata": {
      "needs_background": "light"
     },
     "output_type": "display_data"
    }
   ],
   "source": [
    "plt.plot(syn1_history[0], ms=3, lw=1.5, color='orange')\n",
    "plt.xlabel(r'$L1$', fontsize=16)\n",
    "plt.show()"
   ]
  },
  {
   "cell_type": "markdown",
   "metadata": {},
   "source": [
    "# 參數定義\n",
    "## X 輸入資料集，形式為矩陣，每 1 column 代表 1 個訓練樣本。\n",
    "\n",
    "## y 輸出資料集，形式為矩陣，每 1 column 代表 1 個訓練樣本。\n",
    "\n",
    "## l0 網路第 1 層，即網路輸入層。\n",
    "\n",
    "## l1 網路第 2 層，常稱作隱藏層。\n",
    "\n",
    "## syn0 第一層權值，突觸 0 ，連接 l0 層與 l1 層。\n",
    "\n",
    "## 逐元素相乘，故兩等長向量相乘等同於其對等元素分別相乘，結果為同等長度的向量。\n",
    "\n",
    "## – 元素相減，故兩等長向量相減等同於其對等元素分別相減，結果為同等長度的向量。\n",
    "\n",
    "## x.dot(y) 若 x 和 y 為向量，則進行點積操作；若均為矩陣，則進行矩陣相乘操作；若其中之一為矩陣，則進行向量與矩陣相乘操作。"
   ]
  },
  {
   "cell_type": "code",
   "execution_count": 23,
   "metadata": {},
   "outputs": [],
   "source": [
    "import numpy as np\n",
    " \n",
    "# Sigmoid 函數可以將任何值都映射到一個位於 0 到  1 範圍內的值。通過它，我們可以將實數轉化為概率值\n",
    "'''\n",
    "定義數學函數:\n",
    "y=f(x) = 1/(1+np.exp(-x));\n",
    "dy/dx = df = x*(1-x) \n",
    "\n",
    "為了計算方便, 這邊把 y=f(x) 與 dy/dx 放在同一function 裡面;\n",
    "利用 deriv (derivative)做變數, 來分別指定方程式\n",
    "\n",
    "'''    \n",
    "\n",
    "def nonlin(x, deriv = False) :\n",
    "    if (deriv == True) :\n",
    "        return x * (1 - x)\n",
    "    return 1/(1+np.exp(-x))\n",
    "'''\n",
    "通過 “nonlin” 函數體還能得到 sigmod 函數的導數（當形參 deriv 為 True 時）。\n",
    "Sigmoid 函數優異特性之一，在於只用它的輸出值便可以得到其導數值。\n",
    "若 Sigmoid 的輸出值用變數 out 表示，則其導數值可簡單通過式子 out *(1-out) \n",
    "'''\n",
    "\n",
    "'''\n",
    "input dataset\n",
    "輸入資料集初始化為 numpy 中的矩陣。每一 column 為一個“訓練實例”，\n",
    "每一 row 的對應著一個輸入節點。這樣，我們的神經網路便有 3 個輸入節點，\n",
    "4 個訓練實例。\n",
    "'''\n",
    "X = np.array([  [0,0,1],\n",
    "                [0,1,1],\n",
    "                [1,0,1],\n",
    "                [1,1,1] ])  \n",
    "        \n",
    "# define output dataset \n",
    "y = np.array([[0,0,1,1]]).T\n",
    "\n",
    "'''\n",
    "輸出資料集進行初始化\n",
    ".T” 為轉置函數。經轉置後，該  y  矩陣便包含 4 column 1 row。\n",
    "同我們的輸入一致，每一 column 是一個訓練實例，而每一row（僅有一row）對應一個輸出節點。\n",
    "因此，我們的網路含有 3 個輸入， 1 個輸出\n",
    "'''\n",
    "\n",
    "# seed random numbers to make calculation\n",
    "# deterministic (just a good practice)\n",
    "np.random.seed(1)\n",
    "#亂數設定產生種子得到的權重初始化集仍是隨機分佈的，\n",
    "#但每次開始訓練時，得到的權重初始集分佈都是完全一致的。\n",
    " \n",
    "# initialize weights randomly with mean 0\n",
    "syn0 = 2*np.random.random((3,1)) - 1\n",
    "iter = 0\n",
    "\n",
    "syn0_history = [syn0]\n",
    "#該神經網路權重矩陣的初始化操作。\n",
    "#用 “syn0” 來代指 (即“輸入層-第一層隱層”間權重矩陣）"
   ]
  },
  {
   "cell_type": "markdown",
   "metadata": {},
   "source": [
    "# 神經網路訓練¶\n",
    "# for 迴圈反覆運算式地多次執行訓練代碼，使得我們的網路能更好地擬合訓練集"
   ]
  },
  {
   "cell_type": "code",
   "execution_count": 24,
   "metadata": {},
   "outputs": [
    {
     "name": "stdout",
     "output_type": "stream",
     "text": [
      "Output After Training:\n",
      "\n",
      "\n",
      "[[0.00966449]\n",
      " [0.00786506]\n",
      " [0.99358898]\n",
      " [0.99211957]]\n"
     ]
    }
   ],
   "source": [
    "for iter in range(10000):\n",
    "    # forward propagation\n",
    "    l0 = X\n",
    "    l1 = nonlin(np.dot(l0,syn0))\n",
    "    \n",
    "    '''\n",
    "    首先讓網路基於給定輸入“試著”去預測輸出。\n",
    "    以至於作出一些調整，使得在每次反覆運算過程中網路能夠表現地更好一點。\n",
    "    (4 x 3) dot (3 x 1) = (4 x 1)\n",
    "    此 column 代碼包含兩個步驟。首先，將 l0 與 syn0 進行矩陣相乘。\n",
    "    然後，將計算結果傳遞給 sigmoid 函數。具體考慮到各個矩陣的維度：\n",
    "    (4 x 3) dot (3 x 1) = (4 x 1)\n",
    "    '''\n",
    " \n",
    "    # how much did we miss?\n",
    "    l1_error = y - l1\n",
    " \n",
    "    # multiply how much we missed by the \n",
    "    # slope of the sigmoid at the values in l1\n",
    "    l1_delta = l1_error * nonlin(l1, deriv = True)\n",
    "    \n",
    "    '''\n",
    "    對於每一輸入，可知 l1 都有對應的一個“猜測”結果。那麼通過將真實的結果（y）與猜測結果（l1）作減，\n",
    "    就可以對比得到網路預測的效果怎麼樣。\n",
    "    l1_error 是一個有正數和負數組成的向量，它可以反映出網路的誤差有多大\n",
    "    '''\n",
    "    # update weights\n",
    "    syn0 += np.dot(l0.T,l1_delta)\n",
    "    \n",
    "print(\"Output After Training:\")\n",
    "print(\"\\n\")\n",
    "print(l1)"
   ]
  },
  {
   "cell_type": "code",
   "execution_count": 25,
   "metadata": {},
   "outputs": [
    {
     "data": {
      "image/png": "[encoded data removed]",
      "text/plain": [
       "<Figure size 432x288 with 1 Axes>"
      ]
     },
     "metadata": {
      "needs_background": "light"
     },
     "output_type": "display_data"
    }
   ],
   "source": [
    "import matplotlib.pyplot as plt\n",
    "%matplotlib inline \n",
    "#適用於 Jupyter Notebook, 宣告直接在cell 內印出執行結果\n",
    "\n",
    "plt.plot(syn0_history[0], ms=3, lw=1.5, color='orange')\n",
    "plt.xlabel(r'$L1$', fontsize=16)\n",
    "plt.show()"
   ]
  },
  {
   "cell_type": "code",
   "execution_count": null,
   "metadata": {},
   "outputs": [],
   "source": []
  }
 ],
 "metadata": {
  "kernelspec": {
   "display_name": "Python 3",
   "language": "python",
   "name": "python3"
  },
  "language_info": {
   "codemirror_mode": {
    "name": "ipython",
    "version": 3
   },
   "file_extension": ".py",
   "mimetype": "text/x-python",
   "name": "python",
   "nbconvert_exporter": "python",
   "pygments_lexer": "ipython3",
   "version": "3.7.0"
  }
 },
 "nbformat": 4,
 "nbformat_minor": 2
}
